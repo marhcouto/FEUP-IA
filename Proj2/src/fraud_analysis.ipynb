{
 "cells": [
  {
   "cell_type": "markdown",
   "metadata": {},
   "source": [
    "# Credit Card Fraud"
   ]
  },
  {
   "cell_type": "markdown",
   "metadata": {
    "jupyter": {
     "source_hidden": true
    },
    "tags": []
   },
   "source": [
    "## Project Description\n",
    "The objective of this project is to build and train a machine learning model based on supervised learning classification techniques and algorithms that are capable of recognizing the fraudulency of a credit card transaction. "
   ]
  },
  {
   "cell_type": "code",
   "execution_count": 1,
   "metadata": {},
   "outputs": [],
   "source": [
    "import pandas as pd\n",
    "import seaborn as sb\n",
    "from matplotlib import pyplot as plt"
   ]
  },
  {
   "cell_type": "markdown",
   "metadata": {
    "tags": []
   },
   "source": [
    "## Data pre-processing"
   ]
  },
  {
   "cell_type": "markdown",
   "metadata": {},
   "source": [
    "### Checking the data\n",
    "\n",
    "Before starting to use a new data set, it should always be checked if it is in proper shape, that is, if it does not have many missing values, is well formated, etc."
   ]
  },
  {
   "cell_type": "code",
   "execution_count": 2,
   "metadata": {},
   "outputs": [
    {
     "data": {
      "text/html": [
       "<div>\n",
       "<style scoped>\n",
       "    .dataframe tbody tr th:only-of-type {\n",
       "        vertical-align: middle;\n",
       "    }\n",
       "\n",
       "    .dataframe tbody tr th {\n",
       "        vertical-align: top;\n",
       "    }\n",
       "\n",
       "    .dataframe thead th {\n",
       "        text-align: right;\n",
       "    }\n",
       "</style>\n",
       "<table border=\"1\" class=\"dataframe\">\n",
       "  <thead>\n",
       "    <tr style=\"text-align: right;\">\n",
       "      <th></th>\n",
       "      <th>distance_from_home</th>\n",
       "      <th>distance_from_last_transaction</th>\n",
       "      <th>ratio_to_median_purchase_price</th>\n",
       "      <th>repeat_retailer</th>\n",
       "      <th>used_chip</th>\n",
       "      <th>used_pin_number</th>\n",
       "      <th>online_order</th>\n",
       "      <th>fraud</th>\n",
       "    </tr>\n",
       "  </thead>\n",
       "  <tbody>\n",
       "    <tr>\n",
       "      <th>count</th>\n",
       "      <td>1000000.000000</td>\n",
       "      <td>1000000.000000</td>\n",
       "      <td>1000000.000000</td>\n",
       "      <td>1000000.000000</td>\n",
       "      <td>1000000.000000</td>\n",
       "      <td>1000000.000000</td>\n",
       "      <td>1000000.000000</td>\n",
       "      <td>1000000.000000</td>\n",
       "    </tr>\n",
       "    <tr>\n",
       "      <th>mean</th>\n",
       "      <td>26.628792</td>\n",
       "      <td>5.036519</td>\n",
       "      <td>1.824182</td>\n",
       "      <td>0.881536</td>\n",
       "      <td>0.350399</td>\n",
       "      <td>0.100608</td>\n",
       "      <td>0.650552</td>\n",
       "      <td>0.087403</td>\n",
       "    </tr>\n",
       "    <tr>\n",
       "      <th>std</th>\n",
       "      <td>65.390784</td>\n",
       "      <td>25.843093</td>\n",
       "      <td>2.799589</td>\n",
       "      <td>0.323157</td>\n",
       "      <td>0.477095</td>\n",
       "      <td>0.300809</td>\n",
       "      <td>0.476796</td>\n",
       "      <td>0.282425</td>\n",
       "    </tr>\n",
       "    <tr>\n",
       "      <th>min</th>\n",
       "      <td>0.004874</td>\n",
       "      <td>0.000118</td>\n",
       "      <td>0.004399</td>\n",
       "      <td>0.000000</td>\n",
       "      <td>0.000000</td>\n",
       "      <td>0.000000</td>\n",
       "      <td>0.000000</td>\n",
       "      <td>0.000000</td>\n",
       "    </tr>\n",
       "    <tr>\n",
       "      <th>25%</th>\n",
       "      <td>3.878008</td>\n",
       "      <td>0.296671</td>\n",
       "      <td>0.475673</td>\n",
       "      <td>1.000000</td>\n",
       "      <td>0.000000</td>\n",
       "      <td>0.000000</td>\n",
       "      <td>0.000000</td>\n",
       "      <td>0.000000</td>\n",
       "    </tr>\n",
       "    <tr>\n",
       "      <th>50%</th>\n",
       "      <td>9.967760</td>\n",
       "      <td>0.998650</td>\n",
       "      <td>0.997717</td>\n",
       "      <td>1.000000</td>\n",
       "      <td>0.000000</td>\n",
       "      <td>0.000000</td>\n",
       "      <td>1.000000</td>\n",
       "      <td>0.000000</td>\n",
       "    </tr>\n",
       "    <tr>\n",
       "      <th>75%</th>\n",
       "      <td>25.743985</td>\n",
       "      <td>3.355748</td>\n",
       "      <td>2.096370</td>\n",
       "      <td>1.000000</td>\n",
       "      <td>1.000000</td>\n",
       "      <td>0.000000</td>\n",
       "      <td>1.000000</td>\n",
       "      <td>0.000000</td>\n",
       "    </tr>\n",
       "    <tr>\n",
       "      <th>max</th>\n",
       "      <td>10632.723672</td>\n",
       "      <td>11851.104565</td>\n",
       "      <td>267.802942</td>\n",
       "      <td>1.000000</td>\n",
       "      <td>1.000000</td>\n",
       "      <td>1.000000</td>\n",
       "      <td>1.000000</td>\n",
       "      <td>1.000000</td>\n",
       "    </tr>\n",
       "  </tbody>\n",
       "</table>\n",
       "</div>"
      ],
      "text/plain": [
       "       distance_from_home  distance_from_last_transaction  \\\n",
       "count      1000000.000000                  1000000.000000   \n",
       "mean            26.628792                        5.036519   \n",
       "std             65.390784                       25.843093   \n",
       "min              0.004874                        0.000118   \n",
       "25%              3.878008                        0.296671   \n",
       "50%              9.967760                        0.998650   \n",
       "75%             25.743985                        3.355748   \n",
       "max          10632.723672                    11851.104565   \n",
       "\n",
       "       ratio_to_median_purchase_price  repeat_retailer       used_chip  \\\n",
       "count                  1000000.000000   1000000.000000  1000000.000000   \n",
       "mean                         1.824182         0.881536        0.350399   \n",
       "std                          2.799589         0.323157        0.477095   \n",
       "min                          0.004399         0.000000        0.000000   \n",
       "25%                          0.475673         1.000000        0.000000   \n",
       "50%                          0.997717         1.000000        0.000000   \n",
       "75%                          2.096370         1.000000        1.000000   \n",
       "max                        267.802942         1.000000        1.000000   \n",
       "\n",
       "       used_pin_number    online_order           fraud  \n",
       "count   1000000.000000  1000000.000000  1000000.000000  \n",
       "mean          0.100608        0.650552        0.087403  \n",
       "std           0.300809        0.476796        0.282425  \n",
       "min           0.000000        0.000000        0.000000  \n",
       "25%           0.000000        0.000000        0.000000  \n",
       "50%           0.000000        1.000000        0.000000  \n",
       "75%           0.000000        1.000000        0.000000  \n",
       "max           1.000000        1.000000        1.000000  "
      ]
     },
     "execution_count": 2,
     "metadata": {},
     "output_type": "execute_result"
    }
   ],
   "source": [
    "data_set = pd.read_csv('../data/card_transdata.csv')\n",
    "data_set.describe()"
   ]
  },
  {
   "cell_type": "markdown",
   "metadata": {},
   "source": [
    "The dataset seems to be in good state."
   ]
  },
  {
   "cell_type": "code",
   "execution_count": 3,
   "metadata": {},
   "outputs": [
    {
     "data": {
      "text/html": [
       "<div>\n",
       "<style scoped>\n",
       "    .dataframe tbody tr th:only-of-type {\n",
       "        vertical-align: middle;\n",
       "    }\n",
       "\n",
       "    .dataframe tbody tr th {\n",
       "        vertical-align: top;\n",
       "    }\n",
       "\n",
       "    .dataframe thead th {\n",
       "        text-align: right;\n",
       "    }\n",
       "</style>\n",
       "<table border=\"1\" class=\"dataframe\">\n",
       "  <thead>\n",
       "    <tr style=\"text-align: right;\">\n",
       "      <th></th>\n",
       "      <th>distance_from_home</th>\n",
       "      <th>distance_from_last_transaction</th>\n",
       "      <th>ratio_to_median_purchase_price</th>\n",
       "      <th>repeat_retailer</th>\n",
       "      <th>used_chip</th>\n",
       "      <th>used_pin_number</th>\n",
       "      <th>online_order</th>\n",
       "      <th>fraud</th>\n",
       "    </tr>\n",
       "  </thead>\n",
       "  <tbody>\n",
       "    <tr>\n",
       "      <th>0</th>\n",
       "      <td>57.877857</td>\n",
       "      <td>0.311140</td>\n",
       "      <td>1.945940</td>\n",
       "      <td>1.0</td>\n",
       "      <td>1.0</td>\n",
       "      <td>0.0</td>\n",
       "      <td>0.0</td>\n",
       "      <td>0.0</td>\n",
       "    </tr>\n",
       "    <tr>\n",
       "      <th>1</th>\n",
       "      <td>10.829943</td>\n",
       "      <td>0.175592</td>\n",
       "      <td>1.294219</td>\n",
       "      <td>1.0</td>\n",
       "      <td>0.0</td>\n",
       "      <td>0.0</td>\n",
       "      <td>0.0</td>\n",
       "      <td>0.0</td>\n",
       "    </tr>\n",
       "    <tr>\n",
       "      <th>2</th>\n",
       "      <td>5.091079</td>\n",
       "      <td>0.805153</td>\n",
       "      <td>0.427715</td>\n",
       "      <td>1.0</td>\n",
       "      <td>0.0</td>\n",
       "      <td>0.0</td>\n",
       "      <td>1.0</td>\n",
       "      <td>0.0</td>\n",
       "    </tr>\n",
       "    <tr>\n",
       "      <th>3</th>\n",
       "      <td>2.247564</td>\n",
       "      <td>5.600044</td>\n",
       "      <td>0.362663</td>\n",
       "      <td>1.0</td>\n",
       "      <td>1.0</td>\n",
       "      <td>0.0</td>\n",
       "      <td>1.0</td>\n",
       "      <td>0.0</td>\n",
       "    </tr>\n",
       "    <tr>\n",
       "      <th>4</th>\n",
       "      <td>44.190936</td>\n",
       "      <td>0.566486</td>\n",
       "      <td>2.222767</td>\n",
       "      <td>1.0</td>\n",
       "      <td>1.0</td>\n",
       "      <td>0.0</td>\n",
       "      <td>1.0</td>\n",
       "      <td>0.0</td>\n",
       "    </tr>\n",
       "  </tbody>\n",
       "</table>\n",
       "</div>"
      ],
      "text/plain": [
       "   distance_from_home  distance_from_last_transaction  \\\n",
       "0           57.877857                        0.311140   \n",
       "1           10.829943                        0.175592   \n",
       "2            5.091079                        0.805153   \n",
       "3            2.247564                        5.600044   \n",
       "4           44.190936                        0.566486   \n",
       "\n",
       "   ratio_to_median_purchase_price  repeat_retailer  used_chip  \\\n",
       "0                        1.945940              1.0        1.0   \n",
       "1                        1.294219              1.0        0.0   \n",
       "2                        0.427715              1.0        0.0   \n",
       "3                        0.362663              1.0        1.0   \n",
       "4                        2.222767              1.0        1.0   \n",
       "\n",
       "   used_pin_number  online_order  fraud  \n",
       "0              0.0           0.0    0.0  \n",
       "1              0.0           0.0    0.0  \n",
       "2              0.0           1.0    0.0  \n",
       "3              0.0           1.0    0.0  \n",
       "4              0.0           1.0    0.0  "
      ]
     },
     "execution_count": 3,
     "metadata": {},
     "output_type": "execute_result"
    }
   ],
   "source": [
    "data_set.head()"
   ]
  },
  {
   "cell_type": "markdown",
   "metadata": {},
   "source": [
    "### Checking for missing values\n",
    "\n",
    "One of the problems that often arises is empty values in a data set. "
   ]
  },
  {
   "cell_type": "code",
   "execution_count": 4,
   "metadata": {},
   "outputs": [
    {
     "data": {
      "text/plain": [
       "distance_from_home                0\n",
       "distance_from_last_transaction    0\n",
       "ratio_to_median_purchase_price    0\n",
       "repeat_retailer                   0\n",
       "used_chip                         0\n",
       "used_pin_number                   0\n",
       "online_order                      0\n",
       "fraud                             0\n",
       "dtype: int64"
      ]
     },
     "execution_count": 4,
     "metadata": {},
     "output_type": "execute_result"
    }
   ],
   "source": [
    "data_set.isna().sum()"
   ]
  },
  {
   "cell_type": "markdown",
   "metadata": {},
   "source": [
    "Thankfully our dataset is totally complete."
   ]
  },
  {
   "cell_type": "markdown",
   "metadata": {
    "tags": []
   },
   "source": [
    "### Checking for outliers and other errors\n",
    "\n",
    "Datasets may contain other erroneous data that not a null value. These errors often manifest themselves as outliers: values that stray far away from the majority of the entries in our sample. "
   ]
  },
  {
   "cell_type": "markdown",
   "metadata": {},
   "source": [
    "#### Outliers in continuous attributes\n",
    "To check for outliers, boxplots may be useful."
   ]
  },
  {
   "cell_type": "code",
   "execution_count": 5,
   "metadata": {},
   "outputs": [
    {
     "data": {
      "image/png": "[encoded data removed]",
      "text/plain": [
       "<Figure size 432x288 with 3 Axes>"
      ]
     },
     "metadata": {
      "needs_background": "light"
     },
     "output_type": "display_data"
    }
   ],
   "source": [
    "fig, ax = plt.subplots(3)\n",
    "\n",
    "sb.boxplot(x=data_set[\"distance_from_home\"], orient=\"h\", ax=ax[0])\n",
    "sb.boxplot(x=data_set[\"distance_from_last_transaction\"], orient=\"h\", ax=ax[1])\n",
    "sb.boxplot(x=data_set[\"ratio_to_median_purchase_price\"], orient=\"h\", ax=ax[2])\n",
    "\n",
    "plt.subplots_adjust(left=0.1,\n",
    "                    bottom=0.1, \n",
    "                    right=0.9, \n",
    "                    top=1.5, \n",
    "                    wspace=0.4, \n",
    "                    hspace=0.4)"
   ]
  },
  {
   "cell_type": "markdown",
   "metadata": {},
   "source": [
    "As shown in the image above, there are so many outliers that the box plot is barely recognizable. The next step is to recognize if they represent errors or not."
   ]
  },
  {
   "cell_type": "code",
   "execution_count": 6,
   "metadata": {},
   "outputs": [
    {
     "data": {
      "text/html": [
       "<div>\n",
       "<style scoped>\n",
       "    .dataframe tbody tr th:only-of-type {\n",
       "        vertical-align: middle;\n",
       "    }\n",
       "\n",
       "    .dataframe tbody tr th {\n",
       "        vertical-align: top;\n",
       "    }\n",
       "\n",
       "    .dataframe thead th {\n",
       "        text-align: right;\n",
       "    }\n",
       "</style>\n",
       "<table border=\"1\" class=\"dataframe\">\n",
       "  <thead>\n",
       "    <tr style=\"text-align: right;\">\n",
       "      <th></th>\n",
       "      <th>distance_from_home</th>\n",
       "      <th>distance_from_last_transaction</th>\n",
       "      <th>ratio_to_median_purchase_price</th>\n",
       "      <th>repeat_retailer</th>\n",
       "      <th>used_chip</th>\n",
       "      <th>used_pin_number</th>\n",
       "      <th>online_order</th>\n",
       "      <th>fraud</th>\n",
       "    </tr>\n",
       "  </thead>\n",
       "  <tbody>\n",
       "  </tbody>\n",
       "</table>\n",
       "</div>"
      ],
      "text/plain": [
       "Empty DataFrame\n",
       "Columns: [distance_from_home, distance_from_last_transaction, ratio_to_median_purchase_price, repeat_retailer, used_chip, used_pin_number, online_order, fraud]\n",
       "Index: []"
      ]
     },
     "execution_count": 6,
     "metadata": {},
     "output_type": "execute_result"
    }
   ],
   "source": [
    "# Negative distances are an error, distances bigger than half the perimeter of the equatorial circumference are also an error\n",
    "data_set[(data_set.distance_from_last_transaction < 0) | (data_set.distance_from_last_transaction > 20000)]"
   ]
  },
  {
   "cell_type": "markdown",
   "metadata": {},
   "source": [
    "By analysing the previous graphic we cannot conclude anything because we clearly see that there are two outliers in the data but these outliers can be correct, for instance if a student is studying abroad and doing transactions."
   ]
  },
  {
   "cell_type": "code",
   "execution_count": 7,
   "metadata": {},
   "outputs": [
    {
     "data": {
      "text/html": [
       "<div>\n",
       "<style scoped>\n",
       "    .dataframe tbody tr th:only-of-type {\n",
       "        vertical-align: middle;\n",
       "    }\n",
       "\n",
       "    .dataframe tbody tr th {\n",
       "        vertical-align: top;\n",
       "    }\n",
       "\n",
       "    .dataframe thead th {\n",
       "        text-align: right;\n",
       "    }\n",
       "</style>\n",
       "<table border=\"1\" class=\"dataframe\">\n",
       "  <thead>\n",
       "    <tr style=\"text-align: right;\">\n",
       "      <th></th>\n",
       "      <th>distance_from_home</th>\n",
       "      <th>distance_from_last_transaction</th>\n",
       "      <th>ratio_to_median_purchase_price</th>\n",
       "      <th>repeat_retailer</th>\n",
       "      <th>used_chip</th>\n",
       "      <th>used_pin_number</th>\n",
       "      <th>online_order</th>\n",
       "      <th>fraud</th>\n",
       "    </tr>\n",
       "  </thead>\n",
       "  <tbody>\n",
       "  </tbody>\n",
       "</table>\n",
       "</div>"
      ],
      "text/plain": [
       "Empty DataFrame\n",
       "Columns: [distance_from_home, distance_from_last_transaction, ratio_to_median_purchase_price, repeat_retailer, used_chip, used_pin_number, online_order, fraud]\n",
       "Index: []"
      ]
     },
     "execution_count": 7,
     "metadata": {},
     "output_type": "execute_result"
    }
   ],
   "source": [
    "# Negative distances are an error, distances bigger than half the perimeter of the equatorial circumference are also an error\n",
    "data_set[(data_set.distance_from_home < 0) | (data_set.distance_from_home> 20000)]"
   ]
  },
  {
   "cell_type": "code",
   "execution_count": 8,
   "metadata": {},
   "outputs": [
    {
     "data": {
      "text/html": [
       "<div>\n",
       "<style scoped>\n",
       "    .dataframe tbody tr th:only-of-type {\n",
       "        vertical-align: middle;\n",
       "    }\n",
       "\n",
       "    .dataframe tbody tr th {\n",
       "        vertical-align: top;\n",
       "    }\n",
       "\n",
       "    .dataframe thead th {\n",
       "        text-align: right;\n",
       "    }\n",
       "</style>\n",
       "<table border=\"1\" class=\"dataframe\">\n",
       "  <thead>\n",
       "    <tr style=\"text-align: right;\">\n",
       "      <th></th>\n",
       "      <th>distance_from_home</th>\n",
       "      <th>distance_from_last_transaction</th>\n",
       "      <th>ratio_to_median_purchase_price</th>\n",
       "      <th>repeat_retailer</th>\n",
       "      <th>used_chip</th>\n",
       "      <th>used_pin_number</th>\n",
       "      <th>online_order</th>\n",
       "      <th>fraud</th>\n",
       "    </tr>\n",
       "  </thead>\n",
       "  <tbody>\n",
       "  </tbody>\n",
       "</table>\n",
       "</div>"
      ],
      "text/plain": [
       "Empty DataFrame\n",
       "Columns: [distance_from_home, distance_from_last_transaction, ratio_to_median_purchase_price, repeat_retailer, used_chip, used_pin_number, online_order, fraud]\n",
       "Index: []"
      ]
     },
     "execution_count": 8,
     "metadata": {},
     "output_type": "execute_result"
    }
   ],
   "source": [
    "# Negative ratios are an error\n",
    "data_set[(data_set.ratio_to_median_purchase_price < 0)]"
   ]
  },
  {
   "cell_type": "markdown",
   "metadata": {},
   "source": [
    "As no values in the continuous attributes are impossible, and we cannot contact the supplier of the data set to investigate the values origins, we will assume there are no errors."
   ]
  },
  {
   "cell_type": "markdown",
   "metadata": {},
   "source": [
    "#### Outliers in discrete attributes\n",
    "\n",
    "In these discrete values, all we can check is whether they are indeed discrete or there is any wrong entry."
   ]
  },
  {
   "cell_type": "code",
   "execution_count": 9,
   "metadata": {},
   "outputs": [
    {
     "name": "stdout",
     "output_type": "stream",
     "text": [
      "1.0    881536\n",
      "0.0    118464\n",
      "Name: repeat_retailer, dtype: int64\n",
      "0.0    649601\n",
      "1.0    350399\n",
      "Name: used_chip, dtype: int64\n",
      "0.0    899392\n",
      "1.0    100608\n",
      "Name: used_pin_number, dtype: int64\n",
      "1.0    650552\n",
      "0.0    349448\n",
      "Name: online_order, dtype: int64\n",
      "0.0    912597\n",
      "1.0     87403\n",
      "Name: fraud, dtype: int64\n"
     ]
    }
   ],
   "source": [
    "print(data_set[\"repeat_retailer\"].value_counts())\n",
    "print(data_set[\"used_chip\"].value_counts())\n",
    "print(data_set[\"used_pin_number\"].value_counts())\n",
    "print(data_set[\"online_order\"].value_counts())\n",
    "print(data_set[\"fraud\"].value_counts())"
   ]
  },
  {
   "cell_type": "markdown",
   "metadata": {},
   "source": [
    "On the discrete attributes there does not seem to exist any problem either."
   ]
  },
  {
   "cell_type": "markdown",
   "metadata": {},
   "source": [
    "### Tidying up\n",
    "\n",
    "The data set is clean and valid. The only operation we will be applying is change the values of the discrete variables to boolean, as they are all binary."
   ]
  },
  {
   "cell_type": "code",
   "execution_count": 10,
   "metadata": {},
   "outputs": [
    {
     "data": {
      "text/html": [
       "<div>\n",
       "<style scoped>\n",
       "    .dataframe tbody tr th:only-of-type {\n",
       "        vertical-align: middle;\n",
       "    }\n",
       "\n",
       "    .dataframe tbody tr th {\n",
       "        vertical-align: top;\n",
       "    }\n",
       "\n",
       "    .dataframe thead th {\n",
       "        text-align: right;\n",
       "    }\n",
       "</style>\n",
       "<table border=\"1\" class=\"dataframe\">\n",
       "  <thead>\n",
       "    <tr style=\"text-align: right;\">\n",
       "      <th></th>\n",
       "      <th>distance_from_home</th>\n",
       "      <th>distance_from_last_transaction</th>\n",
       "      <th>ratio_to_median_purchase_price</th>\n",
       "      <th>repeat_retailer</th>\n",
       "      <th>used_chip</th>\n",
       "      <th>used_pin_number</th>\n",
       "      <th>online_order</th>\n",
       "      <th>fraud</th>\n",
       "    </tr>\n",
       "  </thead>\n",
       "  <tbody>\n",
       "    <tr>\n",
       "      <th>0</th>\n",
       "      <td>57.877857</td>\n",
       "      <td>0.311140</td>\n",
       "      <td>1.945940</td>\n",
       "      <td>1</td>\n",
       "      <td>1</td>\n",
       "      <td>0</td>\n",
       "      <td>0</td>\n",
       "      <td>0</td>\n",
       "    </tr>\n",
       "    <tr>\n",
       "      <th>1</th>\n",
       "      <td>10.829943</td>\n",
       "      <td>0.175592</td>\n",
       "      <td>1.294219</td>\n",
       "      <td>1</td>\n",
       "      <td>0</td>\n",
       "      <td>0</td>\n",
       "      <td>0</td>\n",
       "      <td>0</td>\n",
       "    </tr>\n",
       "    <tr>\n",
       "      <th>2</th>\n",
       "      <td>5.091079</td>\n",
       "      <td>0.805153</td>\n",
       "      <td>0.427715</td>\n",
       "      <td>1</td>\n",
       "      <td>0</td>\n",
       "      <td>0</td>\n",
       "      <td>1</td>\n",
       "      <td>0</td>\n",
       "    </tr>\n",
       "    <tr>\n",
       "      <th>3</th>\n",
       "      <td>2.247564</td>\n",
       "      <td>5.600044</td>\n",
       "      <td>0.362663</td>\n",
       "      <td>1</td>\n",
       "      <td>1</td>\n",
       "      <td>0</td>\n",
       "      <td>1</td>\n",
       "      <td>0</td>\n",
       "    </tr>\n",
       "    <tr>\n",
       "      <th>4</th>\n",
       "      <td>44.190936</td>\n",
       "      <td>0.566486</td>\n",
       "      <td>2.222767</td>\n",
       "      <td>1</td>\n",
       "      <td>1</td>\n",
       "      <td>0</td>\n",
       "      <td>1</td>\n",
       "      <td>0</td>\n",
       "    </tr>\n",
       "  </tbody>\n",
       "</table>\n",
       "</div>"
      ],
      "text/plain": [
       "   distance_from_home  distance_from_last_transaction  \\\n",
       "0           57.877857                        0.311140   \n",
       "1           10.829943                        0.175592   \n",
       "2            5.091079                        0.805153   \n",
       "3            2.247564                        5.600044   \n",
       "4           44.190936                        0.566486   \n",
       "\n",
       "   ratio_to_median_purchase_price  repeat_retailer  used_chip  \\\n",
       "0                        1.945940                1          1   \n",
       "1                        1.294219                1          0   \n",
       "2                        0.427715                1          0   \n",
       "3                        0.362663                1          1   \n",
       "4                        2.222767                1          1   \n",
       "\n",
       "   used_pin_number  online_order  fraud  \n",
       "0                0             0      0  \n",
       "1                0             0      0  \n",
       "2                0             1      0  \n",
       "3                0             1      0  \n",
       "4                0             1      0  "
      ]
     },
     "execution_count": 10,
     "metadata": {},
     "output_type": "execute_result"
    }
   ],
   "source": [
    "data_set['fraud'] = data_set['fraud'].astype('int')\n",
    "data_set['online_order'] = data_set['online_order'].astype('int')\n",
    "data_set['used_pin_number'] = data_set['used_pin_number'].astype('int')\n",
    "data_set['used_chip'] = data_set['used_chip'].astype('int')\n",
    "data_set['repeat_retailer'] = data_set['repeat_retailer'].astype('int')\n",
    "data_set.head()"
   ]
  },
  {
   "cell_type": "markdown",
   "metadata": {},
   "source": [
    "## Exploratory Data Analysis"
   ]
  },
  {
   "cell_type": "markdown",
   "metadata": {},
   "source": [
    "The second step is to analyse the data in order to infer relationships between the attributes and understand the data better.\n",
    "\n",
    "Our data set is composed of various continuous and discrete attributes that can be indicative of fraud, as well as a label attribute (fraud). The label is the attribute we seek to train our model to predict.\n",
    "\n",
    "Using [pandas.DataFrame.describe](https://pandas.pydata.org/docs/reference/api/pandas.DataFrame.describe.html) we can get a quick overview of some statistics of our data set."
   ]
  },
  {
   "cell_type": "code",
   "execution_count": 11,
   "metadata": {},
   "outputs": [
    {
     "data": {
      "text/html": [
       "<div>\n",
       "<style scoped>\n",
       "    .dataframe tbody tr th:only-of-type {\n",
       "        vertical-align: middle;\n",
       "    }\n",
       "\n",
       "    .dataframe tbody tr th {\n",
       "        vertical-align: top;\n",
       "    }\n",
       "\n",
       "    .dataframe thead th {\n",
       "        text-align: right;\n",
       "    }\n",
       "</style>\n",
       "<table border=\"1\" class=\"dataframe\">\n",
       "  <thead>\n",
       "    <tr style=\"text-align: right;\">\n",
       "      <th></th>\n",
       "      <th>distance_from_home</th>\n",
       "      <th>distance_from_last_transaction</th>\n",
       "      <th>ratio_to_median_purchase_price</th>\n",
       "      <th>repeat_retailer</th>\n",
       "      <th>used_chip</th>\n",
       "      <th>used_pin_number</th>\n",
       "      <th>online_order</th>\n",
       "      <th>fraud</th>\n",
       "    </tr>\n",
       "  </thead>\n",
       "  <tbody>\n",
       "    <tr>\n",
       "      <th>count</th>\n",
       "      <td>1000000.000000</td>\n",
       "      <td>1000000.000000</td>\n",
       "      <td>1000000.000000</td>\n",
       "      <td>1000000.000000</td>\n",
       "      <td>1000000.000000</td>\n",
       "      <td>1000000.000000</td>\n",
       "      <td>1000000.000000</td>\n",
       "      <td>1000000.000000</td>\n",
       "    </tr>\n",
       "    <tr>\n",
       "      <th>mean</th>\n",
       "      <td>26.628792</td>\n",
       "      <td>5.036519</td>\n",
       "      <td>1.824182</td>\n",
       "      <td>0.881536</td>\n",
       "      <td>0.350399</td>\n",
       "      <td>0.100608</td>\n",
       "      <td>0.650552</td>\n",
       "      <td>0.087403</td>\n",
       "    </tr>\n",
       "    <tr>\n",
       "      <th>std</th>\n",
       "      <td>65.390784</td>\n",
       "      <td>25.843093</td>\n",
       "      <td>2.799589</td>\n",
       "      <td>0.323157</td>\n",
       "      <td>0.477095</td>\n",
       "      <td>0.300809</td>\n",
       "      <td>0.476796</td>\n",
       "      <td>0.282425</td>\n",
       "    </tr>\n",
       "    <tr>\n",
       "      <th>min</th>\n",
       "      <td>0.004874</td>\n",
       "      <td>0.000118</td>\n",
       "      <td>0.004399</td>\n",
       "      <td>0.000000</td>\n",
       "      <td>0.000000</td>\n",
       "      <td>0.000000</td>\n",
       "      <td>0.000000</td>\n",
       "      <td>0.000000</td>\n",
       "    </tr>\n",
       "    <tr>\n",
       "      <th>25%</th>\n",
       "      <td>3.878008</td>\n",
       "      <td>0.296671</td>\n",
       "      <td>0.475673</td>\n",
       "      <td>1.000000</td>\n",
       "      <td>0.000000</td>\n",
       "      <td>0.000000</td>\n",
       "      <td>0.000000</td>\n",
       "      <td>0.000000</td>\n",
       "    </tr>\n",
       "    <tr>\n",
       "      <th>50%</th>\n",
       "      <td>9.967760</td>\n",
       "      <td>0.998650</td>\n",
       "      <td>0.997717</td>\n",
       "      <td>1.000000</td>\n",
       "      <td>0.000000</td>\n",
       "      <td>0.000000</td>\n",
       "      <td>1.000000</td>\n",
       "      <td>0.000000</td>\n",
       "    </tr>\n",
       "    <tr>\n",
       "      <th>75%</th>\n",
       "      <td>25.743985</td>\n",
       "      <td>3.355748</td>\n",
       "      <td>2.096370</td>\n",
       "      <td>1.000000</td>\n",
       "      <td>1.000000</td>\n",
       "      <td>0.000000</td>\n",
       "      <td>1.000000</td>\n",
       "      <td>0.000000</td>\n",
       "    </tr>\n",
       "    <tr>\n",
       "      <th>max</th>\n",
       "      <td>10632.723672</td>\n",
       "      <td>11851.104565</td>\n",
       "      <td>267.802942</td>\n",
       "      <td>1.000000</td>\n",
       "      <td>1.000000</td>\n",
       "      <td>1.000000</td>\n",
       "      <td>1.000000</td>\n",
       "      <td>1.000000</td>\n",
       "    </tr>\n",
       "  </tbody>\n",
       "</table>\n",
       "</div>"
      ],
      "text/plain": [
       "       distance_from_home  distance_from_last_transaction  \\\n",
       "count      1000000.000000                  1000000.000000   \n",
       "mean            26.628792                        5.036519   \n",
       "std             65.390784                       25.843093   \n",
       "min              0.004874                        0.000118   \n",
       "25%              3.878008                        0.296671   \n",
       "50%              9.967760                        0.998650   \n",
       "75%             25.743985                        3.355748   \n",
       "max          10632.723672                    11851.104565   \n",
       "\n",
       "       ratio_to_median_purchase_price  repeat_retailer       used_chip  \\\n",
       "count                  1000000.000000   1000000.000000  1000000.000000   \n",
       "mean                         1.824182         0.881536        0.350399   \n",
       "std                          2.799589         0.323157        0.477095   \n",
       "min                          0.004399         0.000000        0.000000   \n",
       "25%                          0.475673         1.000000        0.000000   \n",
       "50%                          0.997717         1.000000        0.000000   \n",
       "75%                          2.096370         1.000000        1.000000   \n",
       "max                        267.802942         1.000000        1.000000   \n",
       "\n",
       "       used_pin_number    online_order           fraud  \n",
       "count   1000000.000000  1000000.000000  1000000.000000  \n",
       "mean          0.100608        0.650552        0.087403  \n",
       "std           0.300809        0.476796        0.282425  \n",
       "min           0.000000        0.000000        0.000000  \n",
       "25%           0.000000        0.000000        0.000000  \n",
       "50%           0.000000        1.000000        0.000000  \n",
       "75%           0.000000        1.000000        0.000000  \n",
       "max           1.000000        1.000000        1.000000  "
      ]
     },
     "execution_count": 11,
     "metadata": {},
     "output_type": "execute_result"
    }
   ],
   "source": [
    "data_set.describe()"
   ]
  },
  {
   "cell_type": "markdown",
   "metadata": {},
   "source": [
    "From this table it can be infered that:\n",
    "- all continuous attributes have relatively high max values taking into account their mean and mode\n",
    "- a relatively low ammount of data amounts to fraudulent entries from the fraud's mean value\n",
    "- most transactions occurs in less than 25 km from the place of last transaction or home\n",
    "- most transactions do not vary too much from the median purchase price, being the average to be slightly above it\n",
    "- etc.\n",
    "\n",
    " -> we assumed the distances were in kms"
   ]
  },
  {
   "cell_type": "markdown",
   "metadata": {},
   "source": [
    "Plotting can be a very useful tool for analyzing data. Using [seaborn](https://seaborn.pydata.org/index.html) and [matplotlib](https://matplotlib.org/) libraries:"
   ]
  },
  {
   "cell_type": "code",
   "execution_count": 12,
   "metadata": {},
   "outputs": [
    {
     "data": {
      "text/plain": [
       "<AxesSubplot:xlabel='fraud', ylabel='count'>"
      ]
     },
     "execution_count": 12,
     "metadata": {},
     "output_type": "execute_result"
    },
    {
     "data": {
      "image/png": "[encoded data removed]",
      "text/plain": [
       "<Figure size 432x288 with 1 Axes>"
      ]
     },
     "metadata": {
      "needs_background": "light"
     },
     "output_type": "display_data"
    }
   ],
   "source": [
    "sb.countplot(x=data_set.fraud)"
   ]
  },
  {
   "cell_type": "markdown",
   "metadata": {},
   "source": [
    "The image above reveals that our data set is moderately unbalanced. This discovery is important and determinant in our approach and model choice."
   ]
  },
  {
   "cell_type": "code",
   "execution_count": 13,
   "metadata": {},
   "outputs": [
    {
     "data": {
      "image/png": "[encoded data removed]",
      "text/plain": [
       "<Figure size 432x288 with 3 Axes>"
      ]
     },
     "metadata": {
      "needs_background": "light"
     },
     "output_type": "display_data"
    }
   ],
   "source": [
    "fig, ax = plt.subplots(1, 3)\n",
    "sb.boxplot(x=data_set[\"distance_from_last_transaction\"], y=data_set[\"fraud\"], orient=\"h\", showfliers=False, ax=ax[0])\n",
    "sb.boxplot(x=data_set[\"distance_from_home\"], y=data_set[\"fraud\"], orient=\"h\", showfliers=False, ax=ax[1])\n",
    "sb.boxplot(x=data_set[\"ratio_to_median_purchase_price\"], y=data_set[\"fraud\"], orient=\"h\", showfliers=False, ax=ax[2])\n",
    "\n",
    "\n",
    "plt.subplots_adjust(left=0.1,\n",
    "                    bottom=0.1, \n",
    "                    right=3, \n",
    "                    top=1, \n",
    "                    wspace=0.1, \n",
    "                    hspace=0.5)"
   ]
  },
  {
   "cell_type": "markdown",
   "metadata": {},
   "source": [
    "From these boxplots it can be inferred that:\n",
    "- fraudulent transactions have a slight tendency to happen further from the last transaction than normal ones\n",
    "- fraudulent transactions have a slight tendency to happen further from home than normal ones\n",
    "- fraudulent transactions have tendency to be more pricey than normal ones"
   ]
  },
  {
   "cell_type": "code",
   "execution_count": 14,
   "metadata": {},
   "outputs": [
    {
     "data": {
      "image/png": "[encoded data removed]",
      "text/plain": [
       "<Figure size 1296x576 with 8 Axes>"
      ]
     },
     "metadata": {
      "needs_background": "light"
     },
     "output_type": "display_data"
    }
   ],
   "source": [
    "fig, ax = plt.subplots(2, 4, figsize=(18, 8))\n",
    "sb.countplot(data=data_set[data_set.fraud == 0], x=\"fraud\", hue=\"repeat_retailer\", ax=ax[0][0]).set_xlabel(\"Normal\")\n",
    "sb.countplot(data=data_set[data_set.fraud == 1], x=\"fraud\", hue=\"repeat_retailer\", ax=ax[1][0]).set_xlabel(\"Fraudulent\")\n",
    "sb.countplot(data=data_set[data_set.fraud == 0], x=\"fraud\", hue=\"used_chip\", ax=ax[0][1]).set_xlabel(\"Normal\")\n",
    "sb.countplot(data=data_set[data_set.fraud == 1], x=\"fraud\", hue=\"used_chip\", ax=ax[1][1]).set_xlabel(\"Fraudulent\")\n",
    "sb.countplot(data=data_set[data_set.fraud == 0], x=\"fraud\", hue=\"used_pin_number\", ax=ax[0][2]).set_xlabel(\"Normal\")\n",
    "sb.countplot(data=data_set[data_set.fraud == 1], x=\"fraud\", hue=\"used_pin_number\", ax=ax[1][2]).set_xlabel(\"Fraudulent\")\n",
    "sb.countplot(data=data_set[data_set.fraud == 0], x=\"fraud\", hue=\"online_order\", ax=ax[0][3]).set_xlabel(\"Normal\")\n",
    "sb.countplot(data=data_set[data_set.fraud == 1], x=\"fraud\", hue=\"online_order\", ax=ax[1][3]).set_xlabel(\"Fraudulent\")\n",
    "\n",
    "plt.subplots_adjust(left=0.1,\n",
    "                    bottom=0.1, \n",
    "                    right=0.9, \n",
    "                    top=0.9, \n",
    "                    wspace=0.5, \n",
    "                    hspace=0.3)\n"
   ]
  },
  {
   "cell_type": "markdown",
   "metadata": {},
   "source": [
    "These count plots allow for certain conclusions:\n",
    "- the fact that the retailer is repeated seems to have little to no relationship with fraudulency\n",
    "- the percentage of transactions using chip is slightly higher in normal transactions\n",
    "- the percentage of transactions using pin number is higher in normal transactions\n",
    "- the ratio of in loco to online transactions is greater in normal transactions. "
   ]
  },
  {
   "cell_type": "code",
   "execution_count": 15,
   "metadata": {},
   "outputs": [
    {
     "data": {
      "text/plain": [
       "<AxesSubplot:>"
      ]
     },
     "execution_count": 15,
     "metadata": {},
     "output_type": "execute_result"
    },
    {
     "data": {
      "image/png": "[encoded data removed]",
      "text/plain": [
       "<Figure size 648x576 with 2 Axes>"
      ]
     },
     "metadata": {
      "needs_background": "light"
     },
     "output_type": "display_data"
    }
   ],
   "source": [
    "correlation_mat = data_set.corr() \n",
    "f, ax = plt.subplots(figsize=(9, 8)) \n",
    "sb.heatmap(correlation_mat,ax=ax, annot=True, cmap=\"Reds\", linewidths=0.5)"
   ]
  },
  {
   "cell_type": "markdown",
   "metadata": {},
   "source": [
    "A correlation matrix allows to see which attributes have higher correlation value, meaning statistical they move in coordination to one another in a higher degree. The matrix shows us that the attribute which has greatest correlation value with 'fraud' is 'ratio_to_median_purchase_price', folllowed by 'distance_from_home' and 'online_order'."
   ]
  },
  {
   "cell_type": "markdown",
   "metadata": {},
   "source": [
    "### Conclusions\n",
    "\n",
    "From this exploratory analysis we were able to conclude:\n",
    "- The data set is moderately unbalenced\n",
    "- Which are the attributes that are more closely related with fraudulent activity\n",
    "- The date set has a great number of outliers (already concluded in the previous section)"
   ]
  },
  {
   "cell_type": "markdown",
   "metadata": {},
   "source": [
    "## Training the data set"
   ]
  },
  {
   "cell_type": "markdown",
   "metadata": {},
   "source": [
    "\n",
    "We will use a Stratified **10-Fold cross validation** to test the alogirthms and use the **area under the Roc Curve** to score it. We will also resort to using a **gridsearch**, in order to find the best set of parameters for the model.\n",
    "\n",
    "As our dataset is imbalanced, which may present as a problem to most classification algorithms, we will resort to oversampling techniques such as **SMOTE** - Synthetic Minority Over-sampling Technique.\n",
    "\n",
    "In order to fight the imbalance in the data set, we will also try the approach of applying different **class weights**, using grid search, which will increase the importance of a misclassification in a certain class over the other(s).\n",
    "\n",
    "To evaluate the models generated, we will resort mainly to recall, roc_auc and balanced_accuracy measures, which are adequate for imbalanced datasets. We will also use some other ones but will take their values as less important.\n",
    "\n",
    "**NOTE:** \n",
    " - we are training the models with a reduced data set because of lack of processing power to experiment all possibilities with full data set"
   ]
  },
  {
   "cell_type": "code",
   "execution_count": 16,
   "metadata": {},
   "outputs": [],
   "source": [
    "from sklearn.linear_model import LogisticRegression\n",
    "from sklearn.tree import DecisionTreeClassifier\n",
    "from sklearn.neighbors import KNeighborsClassifier\n",
    "from sklearn.neural_network import MLPClassifier\n",
    "from sklearn.model_selection import GridSearchCV, StratifiedKFold, train_test_split\n",
    "from sklearn.preprocessing import MinMaxScaler\n",
    "from sklearn.ensemble import RandomForestClassifier\n",
    "from sklearn.feature_selection import SelectKBest, f_classif\n",
    "from sklearn.metrics import roc_auc_score, make_scorer, recall_score, confusion_matrix, ConfusionMatrixDisplay, precision_score, accuracy_score, balanced_accuracy_score\n",
    "from imblearn.pipeline import Pipeline, make_pipeline\n",
    "from imblearn.over_sampling import SMOTE\n",
    "import pickle\n",
    "import time\n",
    "from pathlib import Path"
   ]
  },
  {
   "cell_type": "markdown",
   "metadata": {
    "tags": []
   },
   "source": [
    "### Common Code and Utilities"
   ]
  },
  {
   "cell_type": "code",
   "execution_count": 17,
   "metadata": {},
   "outputs": [],
   "source": [
    "def pickle_model(model, name):\n",
    "    with open('models/{0}'.format(name), 'wb') as f:\n",
    "        pickle.dump(model, f)\n",
    "\n",
    "def unpickle_model(name):\n",
    "    with open('models/{0}'.format(name), 'rb') as f:\n",
    "        return pickle.load(f)"
   ]
  },
  {
   "cell_type": "code",
   "execution_count": 18,
   "metadata": {},
   "outputs": [],
   "source": [
    "def print_grid_results(grid_search: GridSearchCV, dataset_name, labels_test, labels_pred, algorithm_name, time_to_train, time_to_predict, save: bool):\n",
    "    recall = recall_score(labels_test, labels_pred)\n",
    "    roc_auc = roc_auc_score(labels_test, labels_pred)\n",
    "    precision = precision_score(labels_test, labels_pred)\n",
    "    accuracy = accuracy_score(labels_test, labels_pred)\n",
    "    balanced_accuracy = balanced_accuracy_score(labels_test, labels_pred)\n",
    "    matrix = confusion_matrix(labels_test, labels_pred)\n",
    "    print(dataset_name + ' best score:', grid_search.best_score_)\n",
    "    print(dataset_name + ' best parameters:', grid_search.best_params_)\n",
    "    print(dataset_name + ' roc_auc score against test set:',  roc_auc)\n",
    "    print(dataset_name + ' recall score against test set:',  recall)\n",
    "    print(dataset_name + ' precision score against test set:', precision)\n",
    "    print(dataset_name + ' accuracy score against test set:', accuracy)\n",
    "    print(dataset_name + ' balanced accuracy score against test set:', balanced_accuracy)\n",
    "    ConfusionMatrixDisplay(confusion_matrix=matrix).plot()\n",
    "    print()\n",
    "    if (save):\n",
    "        with open('../data/performance.csv', 'a', encoding='UTF8') as f:\n",
    "            f.write(algorithm_name + ',' + str(time_to_train) + ',' + str(time_to_predict) + ',' +\n",
    "             str(recall) + ',' + str(roc_auc) + ',' + str(precision) + ',' + str(accuracy) + ',' + str(balanced_accuracy) + '\\n')\n"
   ]
  },
  {
   "cell_type": "code",
   "execution_count": 19,
   "metadata": {},
   "outputs": [],
   "source": [
    "def clear_performance_registry():\n",
    "    with open('../data/performance.csv', 'w', encoding='UTF8') as f:\n",
    "        f.write(\"model,time_to_train,time_to_test,recall,roc_auc,precision,accuracy,balanced_accuracy\\n\")\n",
    "\n",
    "def performance_registry(algorithm_name, time_to_train, time_to_predict):\n",
    "    with open('../data/performance.csv', 'a', encoding='UTF8') as f:\n",
    "        f.write(algorithm_name + ',' + str(time_to_train) + ',' + str(time_to_predict) + '\\n')"
   ]
  },
  {
   "cell_type": "markdown",
   "metadata": {},
   "source": [
    "**Grid Search Function**"
   ]
  },
  {
   "cell_type": "code",
   "execution_count": 20,
   "metadata": {},
   "outputs": [],
   "source": [
    "def grid_search_train_and_test(model_name: str, pipeline: Pipeline, parameter_grid, inputs_train, labels_train, inputs_test, labels_test):\n",
    "    file_exists = Path('models/' + model_name + '.sav').is_file() \n",
    "\n",
    "    time_to_train = 0\n",
    "\n",
    "    # Training\n",
    "    if (not file_exists):\n",
    "        print(\"Training...\")\n",
    "        t = time.perf_counter()\n",
    "        grid_search = GridSearchCV(pipeline, param_grid=parameter_grid, n_jobs=-1,\n",
    "                                cv=StratifiedKFold(10), scoring=make_scorer(roc_auc_score),\n",
    "                                return_train_score=True).fit(inputs_train, labels_train)\n",
    "        time_to_train = time.perf_counter() - t\n",
    "        pickle_model(grid_search, model_name + '.sav')\n",
    "\n",
    "    # Testing\n",
    "    grid_search = unpickle_model(model_name + '.sav')\n",
    "    print(\"Testing...\")\n",
    "    t = time.perf_counter()\n",
    "    labels_pred = grid_search.predict(inputs_test)\n",
    "    time_to_predict = time.perf_counter() - t\n",
    "\n",
    "    # Print and save results\n",
    "    print_grid_results(grid_search, model_name, labels_test, labels_pred, model_name, time_to_train, time_to_predict, not file_exists)"
   ]
  },
  {
   "cell_type": "markdown",
   "metadata": {},
   "source": [
    "### Creation of sample sets"
   ]
  },
  {
   "cell_type": "markdown",
   "metadata": {},
   "source": [
    "We will use smaller datasets to test a larger combination of parameters in grid search."
   ]
  },
  {
   "cell_type": "code",
   "execution_count": 21,
   "metadata": {},
   "outputs": [],
   "source": [
    "data_set_sample_01 = data_set.sample(frac=0.001)\n",
    "data_set_sample_1 = data_set.sample(frac=0.01)\n",
    "data_set_sample_10 = data_set.sample(frac=0.1)\n",
    "\n",
    "all_inputs = data_set[['distance_from_home', 'distance_from_last_transaction',\n",
    " 'ratio_to_median_purchase_price', 'repeat_retailer', 'used_chip',\n",
    " 'used_pin_number', 'online_order']].values\n",
    "all_labels = data_set['fraud'].values\n",
    "\n",
    "inputs_1p = data_set_sample_1[['distance_from_home', 'distance_from_last_transaction',\n",
    " 'ratio_to_median_purchase_price', 'repeat_retailer', 'used_chip',\n",
    " 'used_pin_number', 'online_order']].values\n",
    "labels_1p = data_set_sample_1['fraud'].values\n",
    "\n",
    "inputs_01p = data_set_sample_01[['distance_from_home', 'distance_from_last_transaction',\n",
    " 'ratio_to_median_purchase_price', 'repeat_retailer', 'used_chip',\n",
    " 'used_pin_number', 'online_order']].values\n",
    "labels_01p = data_set_sample_01['fraud'].values\n",
    "\n",
    "inputs_10p = data_set_sample_10[['distance_from_home', 'distance_from_last_transaction',\n",
    " 'ratio_to_median_purchase_price', 'repeat_retailer', 'used_chip',\n",
    " 'used_pin_number', 'online_order']].values\n",
    "labels_10p = data_set_sample_10['fraud'].values"
   ]
  },
  {
   "cell_type": "markdown",
   "metadata": {},
   "source": [
    "We may remove columns from the data set that have little relation to the label. The smaller number of columns will decrease the training time and possibly increase its performance."
   ]
  },
  {
   "cell_type": "code",
   "execution_count": 22,
   "metadata": {},
   "outputs": [
    {
     "name": "stdout",
     "output_type": "stream",
     "text": [
      "Feature: distance_from_home | Score: 36465.693325861415\n",
      "Feature: distance_from_last_transaction | Score: 8520.690791240224\n",
      "Feature: ratio_to_median_purchase_price | Score: 271820.17383321305\n",
      "Feature: repeat_retailer | Score: 1.8426704993310303\n",
      "Feature: used_chip | Score: 3731.768465419502\n",
      "Feature: used_pin_number | Score: 10160.776030226083\n",
      "Feature: online_order | Score: 38263.518281433026\n"
     ]
    }
   ],
   "source": [
    "feat_selection = SelectKBest(score_func=f_classif, k=7).fit(all_inputs, all_labels)\n",
    "for i in range(len(data_set.columns) - 1):\n",
    "    print (\"Feature:\", data_set.columns[i], \"| Score:\", feat_selection.scores_[i])\n"
   ]
  },
  {
   "cell_type": "code",
   "execution_count": 23,
   "metadata": {},
   "outputs": [],
   "source": [
    "worst = list(feat_selection.scores_).index(min(feat_selection.scores_))\n",
    "all_inputs_selected = data_set.drop(data_set.columns[worst], axis=1).drop('fraud', axis=1).values\n",
    "inputs_10p_selected = data_set_sample_10.drop(data_set.columns[worst], axis=1).drop('fraud', axis=1).values\n",
    "inputs_1p_selected = data_set_sample_1.drop(data_set.columns[worst], axis=1).drop('fraud', axis=1).values"
   ]
  },
  {
   "cell_type": "code",
   "execution_count": 24,
   "metadata": {},
   "outputs": [
    {
     "name": "stdout",
     "output_type": "stream",
     "text": [
      "True\n"
     ]
    }
   ],
   "source": [
    "file_exists = Path('../data/data_arrays/all_inputs_train.sav').is_file() \n",
    "print(file_exists)\n",
    "if (not file_exists):\n",
    "    print('UPS')\n",
    "    clear_performance_registry()\n",
    "    all_inputs_train, all_inputs_test, all_labels_train, all_labels_test = train_test_split(all_inputs, all_labels, random_state=42)\n",
    "    with open('../data/data_arrays/all_inputs_train.sav', 'wb') as f:\n",
    "        pickle.dump(all_inputs_train, f)\n",
    "    with open('../data/data_arrays/all_inputs_test.sav', 'wb') as f:\n",
    "        pickle.dump(all_inputs_test, f)\n",
    "    with open('../data/data_arrays/all_labels_train.sav', 'wb') as f:\n",
    "        pickle.dump(all_labels_train, f)\n",
    "    with open('../data/data_arrays/all_labels_test.sav', 'wb') as f:\n",
    "        pickle.dump(all_labels_test, f)\n",
    "with open('../data/data_arrays/all_inputs_train.sav', 'rb') as f:\n",
    "    all_inputs_train = pickle.load(f)\n",
    "with open('../data/data_arrays/all_inputs_test.sav', 'rb') as f:\n",
    "    all_inputs_test = pickle.load(f)\n",
    "with open('../data/data_arrays/all_labels_train.sav', 'rb') as f:\n",
    "    all_labels_train = pickle.load(f)\n",
    "with open('../data/data_arrays/all_labels_test.sav', 'rb') as f:\n",
    "    all_labels_test = pickle.load(f)"
   ]
  },
  {
   "cell_type": "markdown",
   "metadata": {
    "jp-MarkdownHeadingCollapsed": true,
    "tags": []
   },
   "source": [
    "### Logistic Regression"
   ]
  },
  {
   "cell_type": "markdown",
   "metadata": {},
   "source": [
    "Logistic Regression is a great algorithm for binary classification. However, it does not behave well with unbalanced datasets and irrelevant or highly correlated features. For this reason, we will use an oversampling technique called **SMOTE**. This will balance the training set used to train the Logistic Regression model. We will also train the dataset with a dataset with one less column which seemed irrelevant. "
   ]
  },
  {
   "cell_type": "code",
   "execution_count": 25,
   "metadata": {},
   "outputs": [],
   "source": [
    "smote_pipeline = make_pipeline(SMOTE(random_state=42),\n",
    "                              MinMaxScaler(),\n",
    "                              LogisticRegression(max_iter=400000, n_jobs=4))\n",
    "normal_pipeline = make_pipeline(MinMaxScaler(),\n",
    "                              LogisticRegression(max_iter=400000, n_jobs=4))"
   ]
  },
  {
   "cell_type": "markdown",
   "metadata": {},
   "source": [
    "#### 1 Percent data set"
   ]
  },
  {
   "cell_type": "code",
   "execution_count": 26,
   "metadata": {},
   "outputs": [],
   "source": [
    "inputs_train, inputs_test, labels_train, labels_test = train_test_split(inputs_1p, labels_1p, random_state=42)\n",
    "inputs_train_selected, inputs_test_selected, labels_train_selected, labels_test_selected = train_test_split(inputs_1p_selected, labels_1p, random_state=42)"
   ]
  },
  {
   "cell_type": "markdown",
   "metadata": {},
   "source": [
    "**Logistic Regression with Smote - 1 Percent**"
   ]
  },
  {
   "cell_type": "code",
   "execution_count": 27,
   "metadata": {},
   "outputs": [
    {
     "name": "stdout",
     "output_type": "stream",
     "text": [
      "Testing...\n",
      "lr_smoted_1p best score: 0.9382817583118278\n",
      "lr_smoted_1p best parameters: {'logisticregression__C': 100, 'logisticregression__class_weight': {1.0: 2}, 'logisticregression__solver': 'newton-cg'}\n",
      "lr_smoted_1p roc_auc score against test set: 0.947622225930252\n",
      "lr_smoted_1p recall score against test set: 0.9846153846153847\n",
      "lr_smoted_1p precision score against test set: 0.4824120603015075\n",
      "lr_smoted_1p accuracy score against test set: 0.9164\n",
      "lr_smoted_1p balanced accuracy score against test set: 0.947622225930252\n",
      "\n",
      "Testing...\n",
      "lr_selected_smoted_1p best score: 0.9378526397064372\n",
      "lr_selected_smoted_1p best parameters: {'logisticregression__C': 100000, 'logisticregression__class_weight': {1.0: 2}, 'logisticregression__solver': 'newton-cg'}\n",
      "lr_selected_smoted_1p roc_auc score against test set: 0.9446242838867568\n",
      "lr_selected_smoted_1p recall score against test set: 0.9794871794871794\n",
      "lr_selected_smoted_1p precision score against test set: 0.47869674185463656\n",
      "lr_selected_smoted_1p accuracy score against test set: 0.9152\n",
      "lr_selected_smoted_1p balanced accuracy score against test set: 0.9446242838867567\n",
      "\n"
     ]
    },
    {
     "data": {
      "image/png": "[encoded data removed]",
      "text/plain": [
       "<Figure size 432x288 with 2 Axes>"
      ]
     },
     "metadata": {
      "needs_background": "light"
     },
     "output_type": "display_data"
    },
    {
     "data": {
      "image/png": "[encoded data removed]",
      "text/plain": [
       "<Figure size 432x288 with 2 Axes>"
      ]
     },
     "metadata": {
      "needs_background": "light"
     },
     "output_type": "display_data"
    }
   ],
   "source": [
    "params = {\n",
    "    'C': [100000, 10000, 100, 1, 0.1, 0.01],\n",
    "    'solver': ['newton-cg', 'lbfgs'],\n",
    "    'class_weight': [{1.0: 0.5}, {1.0: 1}, {1.0: 2}, {1.0: 4}, {1.0: 8}, {1.0: 16}]\n",
    "}\n",
    "param_grid = {'logisticregression__' + key: params[key] for key in params}\n",
    "grid_search_train_and_test('lr_smoted_1p', smote_pipeline, param_grid,\n",
    "                            inputs_train, labels_train, inputs_test, labels_test)\n",
    "grid_search_train_and_test('lr_selected_smoted_1p', smote_pipeline, param_grid,\n",
    "                            inputs_train_selected, labels_train_selected, inputs_test_selected, labels_test_selected)"
   ]
  },
  {
   "cell_type": "markdown",
   "metadata": {},
   "source": [
    "**Logistic Regression focusing on Class Weights - 1 Percent**"
   ]
  },
  {
   "cell_type": "code",
   "execution_count": 28,
   "metadata": {},
   "outputs": [
    {
     "name": "stdout",
     "output_type": "stream",
     "text": [
      "Testing...\n",
      "lr_weight_1p best score: 0.9422253171368826\n",
      "lr_weight_1p best parameters: {'logisticregression__C': 100000, 'logisticregression__class_weight': {1.0: 16}, 'logisticregression__solver': 'newton-cg'}\n",
      "lr_weight_1p roc_auc score against test set: 0.9500083430669114\n",
      "lr_weight_1p recall score against test set: 0.9846153846153847\n",
      "lr_weight_1p precision score against test set: 0.49612403100775193\n",
      "lr_weight_1p accuracy score against test set: 0.9208\n",
      "lr_weight_1p balanced accuracy score against test set: 0.9500083430669114\n",
      "\n",
      "Testing...\n",
      "lr_selected_weight_1p best score: 0.9401071792985454\n",
      "lr_selected_weight_1p best parameters: {'logisticregression__C': 100000, 'logisticregression__class_weight': {1.0: 16}, 'logisticregression__solver': 'newton-cg'}\n",
      "lr_selected_weight_1p roc_auc score against test set: 0.9489237443684299\n",
      "lr_selected_weight_1p recall score against test set: 0.9846153846153847\n",
      "lr_selected_weight_1p precision score against test set: 0.4897959183673469\n",
      "lr_selected_weight_1p accuracy score against test set: 0.9188\n",
      "lr_selected_weight_1p balanced accuracy score against test set: 0.9489237443684299\n",
      "\n"
     ]
    },
    {
     "data": {
      "image/png": "[encoded data removed]",
      "text/plain": [
       "<Figure size 432x288 with 2 Axes>"
      ]
     },
     "metadata": {
      "needs_background": "light"
     },
     "output_type": "display_data"
    },
    {
     "data": {
      "image/png": "[encoded data removed]",
      "text/plain": [
       "<Figure size 432x288 with 2 Axes>"
      ]
     },
     "metadata": {
      "needs_background": "light"
     },
     "output_type": "display_data"
    }
   ],
   "source": [
    "# Sag and Saga solvers crashed with big class_weights\n",
    "params = {\n",
    "    'C': [100000, 10000, 100, 1, 0.1, 0.01],\n",
    "    'solver': ['newton-cg', 'lbfgs'],\n",
    "    'class_weight': [{1.0: 0.5}, {1.0: 1}, {1.0: 2}, {1.0: 4}, {1.0: 8}, {1.0: 16}]\n",
    "}\n",
    "param_grid = {'logisticregression__' + key: params[key] for key in params}\n",
    "grid_search_train_and_test('lr_weight_1p', normal_pipeline, param_grid,\n",
    "                            inputs_train, labels_train, inputs_test, labels_test)\n",
    "grid_search_train_and_test('lr_selected_weight_1p', normal_pipeline, param_grid,\n",
    "                            inputs_train_selected, labels_train_selected, inputs_test_selected, labels_test_selected)"
   ]
  },
  {
   "cell_type": "markdown",
   "metadata": {},
   "source": [
    "As it is evident, when using SMOTE the best result is obtained using smaller class_weights for the class previously in minority compared to normal training set."
   ]
  },
  {
   "cell_type": "markdown",
   "metadata": {},
   "source": [
    "Now, we are going to test with a bigger chunk of the dataset and less parameter options."
   ]
  },
  {
   "cell_type": "markdown",
   "metadata": {},
   "source": [
    "#### 10 Percent data set"
   ]
  },
  {
   "cell_type": "markdown",
   "metadata": {},
   "source": [
    "**Logistic Regression with Smote - 10 Percent**"
   ]
  },
  {
   "cell_type": "code",
   "execution_count": 29,
   "metadata": {},
   "outputs": [],
   "source": [
    "inputs_train, inputs_test, labels_train, labels_test = train_test_split(inputs_10p, labels_10p, random_state=42)\n",
    "inputs_train_selected, inputs_test_selected, labels_train_selected, labels_test_selected = train_test_split(inputs_10p_selected, labels_10p, random_state=42)"
   ]
  },
  {
   "cell_type": "code",
   "execution_count": 30,
   "metadata": {},
   "outputs": [
    {
     "name": "stdout",
     "output_type": "stream",
     "text": [
      "Testing...\n",
      "lr_smoted_10p best score: 0.9403949233034661\n",
      "lr_smoted_10p best parameters: {'logisticregression__C': 10000, 'logisticregression__class_weight': {1.0: 2}, 'logisticregression__solver': 'newton-cg'}\n",
      "lr_smoted_10p roc_auc score against test set: 0.9424248285411212\n",
      "lr_smoted_10p recall score against test set: 0.9794614331355546\n",
      "lr_smoted_10p precision score against test set: 0.4986059479553903\n",
      "lr_smoted_10p accuracy score against test set: 0.91188\n",
      "lr_smoted_10p balanced accuracy score against test set: 0.9424248285411212\n",
      "\n",
      "Testing...\n",
      "lr_selected_smoted_10p best score: 0.9377203792879956\n",
      "lr_selected_smoted_10p best parameters: {'logisticregression__C': 10000, 'logisticregression__class_weight': {1.0: 1}, 'logisticregression__solver': 'newton-cg'}\n",
      "lr_selected_smoted_10p roc_auc score against test set: 0.9407030811041923\n",
      "lr_selected_smoted_10p recall score against test set: 0.9465997261524418\n",
      "lr_selected_smoted_10p precision score against test set: 0.5824206683515867\n",
      "lr_selected_smoted_10p accuracy score against test set: 0.93584\n",
      "lr_selected_smoted_10p balanced accuracy score against test set: 0.9407030811041923\n",
      "\n"
     ]
    },
    {
     "data": {
      "image/png": "[encoded data removed]",
      "text/plain": [
       "<Figure size 432x288 with 2 Axes>"
      ]
     },
     "metadata": {
      "needs_background": "light"
     },
     "output_type": "display_data"
    },
    {
     "data": {
      "image/png": "[encoded data removed]",
      "text/plain": [
       "<Figure size 432x288 with 2 Axes>"
      ]
     },
     "metadata": {
      "needs_background": "light"
     },
     "output_type": "display_data"
    }
   ],
   "source": [
    "params = {\n",
    "    'C': [10000, 100, 1,],\n",
    "    'solver': ['newton-cg', 'lbfgs'],\n",
    "    'class_weight': [{1.0: 1}, {1.0: 2}]\n",
    "}\n",
    "param_grid = {'logisticregression__' + key: params[key] for key in params}\n",
    "grid_search_train_and_test('lr_smoted_10p', smote_pipeline, param_grid,\n",
    "                            inputs_train, labels_train, inputs_test, labels_test)\n",
    "grid_search_train_and_test('lr_selected_smoted_10p', smote_pipeline, param_grid,\n",
    "                            inputs_train_selected, labels_train_selected, inputs_test_selected, labels_test_selected)"
   ]
  },
  {
   "cell_type": "markdown",
   "metadata": {},
   "source": [
    "**Logistic Regression focusing on Class Weights - 10 Percent**"
   ]
  },
  {
   "cell_type": "code",
   "execution_count": 31,
   "metadata": {},
   "outputs": [
    {
     "name": "stdout",
     "output_type": "stream",
     "text": [
      "Testing...\n",
      "lr_weight_10p best score: 0.9436530042684851\n",
      "lr_weight_10p best parameters: {'logisticregression__C': 100000, 'logisticregression__class_weight': {1.0: 16}, 'logisticregression__solver': 'newton-cg'}\n",
      "lr_weight_10p roc_auc score against test set: 0.9446742548937789\n",
      "lr_weight_10p recall score against test set: 0.9712460063897763\n",
      "lr_weight_10p precision score against test set: 0.5325325325325325\n",
      "lr_weight_10p accuracy score against test set: 0.92276\n",
      "lr_weight_10p balanced accuracy score against test set: 0.944674254893779\n",
      "\n",
      "Testing...\n",
      "lr_weight_selected_10p best score: 0.9420552683791105\n",
      "lr_weight_selected_10p best parameters: {'logisticregression__C': 10000, 'logisticregression__class_weight': {1.0: 16}, 'logisticregression__solver': 'newton-cg'}\n",
      "lr_weight_selected_10p roc_auc score against test set: 0.9424461594117595\n",
      "lr_weight_selected_10p recall score against test set: 0.9694203560018256\n",
      "lr_weight_selected_10p precision score against test set: 0.5241855873642646\n",
      "lr_weight_selected_10p accuracy score against test set: 0.9202\n",
      "lr_weight_selected_10p balanced accuracy score against test set: 0.9424461594117595\n",
      "\n"
     ]
    },
    {
     "data": {
      "image/png": "[encoded data removed]",
      "text/plain": [
       "<Figure size 432x288 with 2 Axes>"
      ]
     },
     "metadata": {
      "needs_background": "light"
     },
     "output_type": "display_data"
    },
    {
     "data": {
      "image/png": "[encoded data removed]",
      "text/plain": [
       "<Figure size 432x288 with 2 Axes>"
      ]
     },
     "metadata": {
      "needs_background": "light"
     },
     "output_type": "display_data"
    }
   ],
   "source": [
    "# Sag and Saga solvers crashed with big class_weights\n",
    "params = {\n",
    "    'C': [100000, 10000, 1000, 100],\n",
    "    'solver': ['newton-cg', 'lbfgs'],\n",
    "    'class_weight': [{1.0: 4}, {1.0: 8}, {1.0: 16}]\n",
    "}\n",
    "param_grid = {'logisticregression__' + key: params[key] for key in params}\n",
    "grid_search_train_and_test('lr_weight_10p', normal_pipeline, param_grid,\n",
    "                            inputs_train, labels_train, inputs_test, labels_test)\n",
    "grid_search_train_and_test('lr_weight_selected_10p', normal_pipeline, param_grid,\n",
    "                            inputs_train_selected, labels_train_selected, inputs_test_selected, labels_test_selected)"
   ]
  },
  {
   "cell_type": "markdown",
   "metadata": {},
   "source": [
    "Finally, we will test our model with the, best parameters with the whole dataset. We will also opt out of using the dataset with the missing column as it seems to slightly inder the performance of the model."
   ]
  },
  {
   "cell_type": "markdown",
   "metadata": {},
   "source": [
    "#### Full data set"
   ]
  },
  {
   "cell_type": "markdown",
   "metadata": {},
   "source": [
    "Although solver newton-cg gave better results, lbfgs was chosen due to a problem where newton solver would not converge with the full dataset."
   ]
  },
  {
   "cell_type": "markdown",
   "metadata": {},
   "source": [
    "**Logistic Regression Control - Full Dataset**"
   ]
  },
  {
   "cell_type": "code",
   "execution_count": 32,
   "metadata": {},
   "outputs": [
    {
     "name": "stdout",
     "output_type": "stream",
     "text": [
      "Testing...\n",
      "lr_control_full best score: 0.7958779032432606\n",
      "lr_control_full best parameters: {}\n",
      "lr_control_full roc_auc score against test set: 0.7960766492827275\n",
      "lr_control_full recall score against test set: 0.5991629104958146\n",
      "lr_control_full precision score against test set: 0.890613249470158\n",
      "lr_control_full accuracy score against test set: 0.95874\n",
      "lr_control_full balanced accuracy score against test set: 0.7960766492827276\n",
      "\n"
     ]
    },
    {
     "data": {
      "image/png": "[encoded data removed]",
      "text/plain": [
       "<Figure size 432x288 with 2 Axes>"
      ]
     },
     "metadata": {
      "needs_background": "light"
     },
     "output_type": "display_data"
    }
   ],
   "source": [
    "params = {}\n",
    "param_grid = {'logisticregression__' + key: params[key] for key in params}\n",
    "grid_search_train_and_test('lr_control_full', LogisticRegression(), param_grid,\n",
    "                            all_inputs_train, all_labels_train, all_inputs_test, all_labels_test)"
   ]
  },
  {
   "cell_type": "markdown",
   "metadata": {},
   "source": [
    "**Logistic Regression with Smote - Full Dataset**"
   ]
  },
  {
   "cell_type": "code",
   "execution_count": 33,
   "metadata": {},
   "outputs": [
    {
     "name": "stdout",
     "output_type": "stream",
     "text": [
      "Testing...\n",
      "lr_smoted_full best score: 0.9420782745949499\n",
      "lr_smoted_full best parameters: {'logisticregression__C': 10000, 'logisticregression__class_weight': {1.0: 2}, 'logisticregression__solver': 'newton-cg'}\n",
      "lr_smoted_full roc_auc score against test set: 0.9430691125692261\n",
      "lr_smoted_full recall score against test set: 0.9806365559746113\n",
      "lr_smoted_full precision score against test set: 0.49709729313842066\n",
      "lr_smoted_full accuracy score against test set: 0.912036\n",
      "lr_smoted_full balanced accuracy score against test set: 0.9430691125692261\n",
      "\n"
     ]
    },
    {
     "data": {
      "image/png": "[encoded data removed]",
      "text/plain": [
       "<Figure size 432x288 with 2 Axes>"
      ]
     },
     "metadata": {
      "needs_background": "light"
     },
     "output_type": "display_data"
    }
   ],
   "source": [
    "params = {\n",
    "    'C': [10000],\n",
    "    'solver': ['newton-cg'],\n",
    "    'class_weight': [{1.0: 2}]\n",
    "}\n",
    "param_grid = {'logisticregression__' + key: params[key] for key in params}\n",
    "grid_search_train_and_test('lr_smoted_full', smote_pipeline, param_grid,\n",
    "                            all_inputs_train, all_labels_train, all_inputs_test, all_labels_test)"
   ]
  },
  {
   "cell_type": "markdown",
   "metadata": {},
   "source": [
    "**Logistic Regression focusing on Class Weights - Full Dataset**"
   ]
  },
  {
   "cell_type": "code",
   "execution_count": 34,
   "metadata": {},
   "outputs": [
    {
     "name": "stdout",
     "output_type": "stream",
     "text": [
      "Testing...\n",
      "lr_weight_full best score: 0.9436282175792761\n",
      "lr_weight_full best parameters: {'logisticregression__C': 10000, 'logisticregression__class_weight': {1.0: 16}, 'logisticregression__solver': 'newton-cg'}\n",
      "lr_weight_full roc_auc score against test set: 0.9442897817031476\n",
      "lr_weight_full recall score against test set: 0.9729095759359765\n",
      "lr_weight_full precision score against test set: 0.5235631899410921\n",
      "lr_weight_full accuracy score against test set: 0.920648\n",
      "lr_weight_full balanced accuracy score against test set: 0.9442897817031476\n",
      "\n"
     ]
    },
    {
     "data": {
      "image/png": "[encoded data removed]",
      "text/plain": [
       "<Figure size 432x288 with 2 Axes>"
      ]
     },
     "metadata": {
      "needs_background": "light"
     },
     "output_type": "display_data"
    }
   ],
   "source": [
    "params = {\n",
    "    'C': [10000],\n",
    "    'solver': ['newton-cg'],\n",
    "    'class_weight': [{1.0: 16}]\n",
    "}\n",
    "param_grid = {'logisticregression__' + key: params[key] for key in params}\n",
    "grid_search_train_and_test('lr_weight_full', normal_pipeline, param_grid,\n",
    "                            all_inputs_train, all_labels_train, all_inputs_test, all_labels_test)"
   ]
  },
  {
   "cell_type": "markdown",
   "metadata": {},
   "source": [
    "Logistic Regression as proven to not be too valuable of an algorithm. Although it has a good recall, its precision is very bad. Eventhough precision is not a good assessment method for imbalanced data sets, such a low value is a bad sign, as the model would label many normal transactions as fraudulent."
   ]
  },
  {
   "cell_type": "markdown",
   "metadata": {},
   "source": [
    "---------------------------"
   ]
  },
  {
   "cell_type": "markdown",
   "metadata": {},
   "source": [
    "### MyLogisticRegression"
   ]
  },
  {
   "cell_type": "markdown",
   "metadata": {},
   "source": [
    "Logistic Regression but with altered threshold"
   ]
  },
  {
   "cell_type": "code",
   "execution_count": 35,
   "metadata": {},
   "outputs": [],
   "source": [
    "class MyLogisticRegression(LogisticRegression):\n",
    "    def predict(self, X):\n",
    "        results = []\n",
    "        scores = self.predict_proba(X)\n",
    "        for element in scores:\n",
    "            if element[0] > 0.7:\n",
    "                results.append(0)\n",
    "            else:\n",
    "                results.append(1)\n",
    "        return results"
   ]
  },
  {
   "cell_type": "code",
   "execution_count": 36,
   "metadata": {},
   "outputs": [],
   "source": [
    "smote_pipeline = make_pipeline(SMOTE(random_state=42),\n",
    "                              MinMaxScaler(),\n",
    "                              MyLogisticRegression(max_iter=400000, n_jobs=4))\n",
    "normal_pipeline = make_pipeline(MinMaxScaler(),\n",
    "                              MyLogisticRegression(max_iter=400000, n_jobs=4))"
   ]
  },
  {
   "cell_type": "markdown",
   "metadata": {},
   "source": [
    "#### Full data set"
   ]
  },
  {
   "cell_type": "markdown",
   "metadata": {},
   "source": [
    "**Logistic Regression with Smote - Full Dataset**"
   ]
  },
  {
   "cell_type": "code",
   "execution_count": 37,
   "metadata": {},
   "outputs": [
    {
     "name": "stdout",
     "output_type": "stream",
     "text": [
      "Testing...\n",
      "mylr_smoted_full best score: 0.9187589837207207\n",
      "mylr_smoted_full best parameters: {'mylogisticregression__C': 10000, 'mylogisticregression__class_weight': {1.0: 2}, 'mylogisticregression__solver': 'newton-cg'}\n",
      "mylr_smoted_full roc_auc score against test set: 0.9185489344214317\n",
      "mylr_smoted_full recall score against test set: 0.9913531413853371\n",
      "mylr_smoted_full precision score against test set: 0.3797124938341202\n",
      "mylr_smoted_full accuracy score against test set: 0.858408\n",
      "mylr_smoted_full balanced accuracy score against test set: 0.9185489344214317\n",
      "\n"
     ]
    },
    {
     "data": {
      "image/png": "[encoded data removed]",
      "text/plain": [
       "<Figure size 432x288 with 2 Axes>"
      ]
     },
     "metadata": {
      "needs_background": "light"
     },
     "output_type": "display_data"
    }
   ],
   "source": [
    "params = {\n",
    "    'C': [10000],\n",
    "    'solver': ['newton-cg'],\n",
    "    'class_weight': [{1.0: 2}]\n",
    "}\n",
    "param_grid = {'mylogisticregression__' + key: params[key] for key in params}\n",
    "grid_search_train_and_test('mylr_smoted_full', smote_pipeline, param_grid,\n",
    "                            all_inputs_train, all_labels_train, all_inputs_test, all_labels_test)"
   ]
  },
  {
   "cell_type": "markdown",
   "metadata": {},
   "source": [
    "**Logistic Regression focusing on Class Weights - Full Dataset**"
   ]
  },
  {
   "cell_type": "code",
   "execution_count": 38,
   "metadata": {},
   "outputs": [
    {
     "name": "stdout",
     "output_type": "stream",
     "text": [
      "Testing...\n",
      "mylr_weight_full best score: 0.9239574885661691\n",
      "mylr_weight_full best parameters: {'mylogisticregression__C': 10000, 'mylogisticregression__class_weight': {1.0: 16}, 'mylogisticregression__solver': 'newton-cg'}\n",
      "mylr_weight_full roc_auc score against test set: 0.92364636293738\n",
      "mylr_weight_full recall score against test set: 0.989605372090884\n",
      "mylr_weight_full precision score against test set: 0.39844444444444443\n",
      "mylr_weight_full accuracy score against test set: 0.86916\n",
      "mylr_weight_full balanced accuracy score against test set: 0.9236463629373801\n",
      "\n"
     ]
    },
    {
     "data": {
      "image/png": "[encoded data removed]",
      "text/plain": [
       "<Figure size 432x288 with 2 Axes>"
      ]
     },
     "metadata": {
      "needs_background": "light"
     },
     "output_type": "display_data"
    }
   ],
   "source": [
    "params = {\n",
    "    'C': [10000],\n",
    "    'solver': ['newton-cg'],\n",
    "    'class_weight': [{1.0: 16}]\n",
    "}\n",
    "param_grid = {'mylogisticregression__' + key: params[key] for key in params}\n",
    "grid_search_train_and_test('mylr_weight_full', normal_pipeline, param_grid,\n",
    "                            all_inputs_train, all_labels_train, all_inputs_test, all_labels_test)"
   ]
  },
  {
   "cell_type": "markdown",
   "metadata": {},
   "source": [
    "After these experiments, we concluded changing the threshold would not improve the situation that much."
   ]
  },
  {
   "cell_type": "markdown",
   "metadata": {
    "tags": []
   },
   "source": [
    "### K-Nearest Neighbours"
   ]
  },
  {
   "cell_type": "markdown",
   "metadata": {},
   "source": [
    "KNN is one of the simplest classification algorithms and usually proves to be powerful as well. However, it can be very memory itensive and slow."
   ]
  },
  {
   "cell_type": "code",
   "execution_count": 39,
   "metadata": {},
   "outputs": [],
   "source": [
    "smote_pipeline = make_pipeline(SMOTE(random_state=42),\n",
    "                              MinMaxScaler(),\n",
    "                              KNeighborsClassifier())\n",
    "normal_pipeline = make_pipeline(MinMaxScaler(),\n",
    "                              KNeighborsClassifier())"
   ]
  },
  {
   "cell_type": "markdown",
   "metadata": {},
   "source": [
    "#### 1 Percent data set"
   ]
  },
  {
   "cell_type": "code",
   "execution_count": 40,
   "metadata": {},
   "outputs": [],
   "source": [
    "inputs_train, inputs_test, labels_train, labels_test = train_test_split(inputs_1p, labels_1p, random_state=42)"
   ]
  },
  {
   "cell_type": "markdown",
   "metadata": {},
   "source": [
    "**K-Nearest Neighbours with Smote - 1 Percent**"
   ]
  },
  {
   "cell_type": "code",
   "execution_count": 41,
   "metadata": {},
   "outputs": [
    {
     "name": "stdout",
     "output_type": "stream",
     "text": [
      "Testing...\n",
      "knn_smoted_1p best score: 0.9848597105405291\n",
      "knn_smoted_1p best parameters: {'kneighborsclassifier__algorithm': 'brute', 'kneighborsclassifier__n_neighbors': 8, 'kneighborsclassifier__weights': 'distance'}\n",
      "knn_smoted_1p roc_auc score against test set: 0.9920518382557428\n",
      "knn_smoted_1p recall score against test set: 0.9897435897435898\n",
      "knn_smoted_1p precision score against test set: 0.9368932038834952\n",
      "knn_smoted_1p accuracy score against test set: 0.994\n",
      "knn_smoted_1p balanced accuracy score against test set: 0.9920518382557428\n",
      "\n"
     ]
    },
    {
     "data": {
      "image/png": "[encoded data removed]",
      "text/plain": [
       "<Figure size 432x288 with 2 Axes>"
      ]
     },
     "metadata": {
      "needs_background": "light"
     },
     "output_type": "display_data"
    }
   ],
   "source": [
    "#We did not tune leaf_size because changing the leaf size can have great impact in runtime\n",
    "# with little to no impact on performance metrics\n",
    "params = {\n",
    "    'n_neighbors': [5, 6, 7, 8, 9],\n",
    "    'weights': ['uniform', 'distance'],\n",
    "    'algorithm': ['brute', 'ball_tree', 'kd_tree']\n",
    "}\n",
    "param_grid = {'kneighborsclassifier__' + key: params[key] for key in params}\n",
    "grid_search_train_and_test('knn_smoted_1p', smote_pipeline, param_grid,\n",
    "                            inputs_train, labels_train, inputs_test, labels_test)"
   ]
  },
  {
   "cell_type": "markdown",
   "metadata": {},
   "source": [
    "**K-Nearest Neighbours no data processing - 1 Percent**"
   ]
  },
  {
   "cell_type": "code",
   "execution_count": 42,
   "metadata": {},
   "outputs": [
    {
     "name": "stdout",
     "output_type": "stream",
     "text": [
      "Testing...\n",
      "knn_none_1p best score: 0.974554384409877\n",
      "knn_none_1p best parameters: {'kneighborsclassifier__algorithm': 'brute', 'kneighborsclassifier__n_neighbors': 1, 'kneighborsclassifier__weights': 'uniform'}\n",
      "knn_none_1p roc_auc score against test set: 0.9839646253962958\n",
      "knn_none_1p recall score against test set: 0.9692307692307692\n",
      "knn_none_1p precision score against test set: 0.984375\n",
      "knn_none_1p accuracy score against test set: 0.9964\n",
      "knn_none_1p balanced accuracy score against test set: 0.9839646253962957\n",
      "\n"
     ]
    },
    {
     "data": {
      "image/png": "[encoded data removed]",
      "text/plain": [
       "<Figure size 432x288 with 2 Axes>"
      ]
     },
     "metadata": {
      "needs_background": "light"
     },
     "output_type": "display_data"
    }
   ],
   "source": [
    "params = {\n",
    "    'n_neighbors': [1, 2, 3, 4, 5],\n",
    "    'weights': ['uniform', 'distance'],\n",
    "    'algorithm': ['brute', 'ball_tree', 'kd_tree']\n",
    "}\n",
    "param_grid = {'kneighborsclassifier__' + key: params[key] for key in params}\n",
    "grid_search_train_and_test('knn_none_1p', normal_pipeline, param_grid,\n",
    "                            inputs_train, labels_train, inputs_test, labels_test)"
   ]
  },
  {
   "cell_type": "markdown",
   "metadata": {},
   "source": [
    "#### 10 Percent data set"
   ]
  },
  {
   "cell_type": "markdown",
   "metadata": {},
   "source": [
    "Because KNN is very slow we couldn't use the 25% train 75% test rule. We splitted the whole dataset in 10% train 90% test and used the best parameters that had the best performance with 1% of the dataset."
   ]
  },
  {
   "cell_type": "code",
   "execution_count": 43,
   "metadata": {},
   "outputs": [],
   "source": [
    "inputs_train, inputs_test, labels_train, labels_test = train_test_split(all_inputs, all_labels, test_size=0.90, random_state=42)"
   ]
  },
  {
   "cell_type": "markdown",
   "metadata": {},
   "source": [
    "**K-Nearest Neighbours Control - 10 Percent data set**"
   ]
  },
  {
   "cell_type": "code",
   "execution_count": 44,
   "metadata": {},
   "outputs": [],
   "source": [
    "params = {}\n",
    "param_grid = {'kneighborsclassifier__' + key: params[key] for key in params}\n",
    "# Commented because it takes to long to predict\n",
    "# grid_search_train_and_test('knn_control_10p', KNeighborsClassifier(), param_grid,\n",
    "#                            inputs_train, labels_train, inputs_test, labels_test)"
   ]
  },
  {
   "cell_type": "markdown",
   "metadata": {},
   "source": [
    "**K-Nearest Neighbours with Smote - 10 Percent data set**"
   ]
  },
  {
   "cell_type": "code",
   "execution_count": 45,
   "metadata": {},
   "outputs": [],
   "source": [
    "params = {\n",
    "    'n_neighbors': [8],\n",
    "    'weights': ['distance'],\n",
    "    'algorithm': ['brute']\n",
    "}\n",
    "param_grid = {'kneighborsclassifier__' + key: params[key] for key in params}\n",
    "# Commented because it takes to long to predict\n",
    "#grid_search_train_and_test('knn_smoted_10p', smote_pipeline, param_grid,\n",
    "#                           inputs_train, labels_train, inputs_test, labels_test)"
   ]
  },
  {
   "cell_type": "markdown",
   "metadata": {},
   "source": [
    "**K-Nearest Neighbours no data processing - 10 Percent data set**"
   ]
  },
  {
   "cell_type": "code",
   "execution_count": 46,
   "metadata": {},
   "outputs": [],
   "source": [
    "params = {\n",
    "    'n_neighbors': [1],\n",
    "    'weights': ['uniform'],\n",
    "    'algorithm': ['brute'],\n",
    "}\n",
    "param_grid = {'kneighborsclassifier__' + key: params[key] for key in params}\n",
    "# Commented because it takes to long to predict\n",
    "# grid_search_train_and_test('knn_none_10p', normal_pipeline, param_grid,\n",
    "#                             inputs_train, labels_train, inputs_test, labels_test)"
   ]
  },
  {
   "cell_type": "markdown",
   "metadata": {},
   "source": [
    "KNN achieved good results but it is much slower than other algorithms, making it very inviable to even fit with the full data set."
   ]
  },
  {
   "cell_type": "markdown",
   "metadata": {},
   "source": [
    "---------------------------"
   ]
  },
  {
   "cell_type": "markdown",
   "metadata": {
    "jp-MarkdownHeadingCollapsed": true,
    "tags": []
   },
   "source": [
    "### Decision Trees"
   ]
  },
  {
   "cell_type": "markdown",
   "metadata": {},
   "source": [
    "Decision trees have proven to be one of the most viable options when it comes to imbalanced data sets. Not only that but the algorithm deals well with irrelevant features. As such, we will not use the selected dataset."
   ]
  },
  {
   "cell_type": "code",
   "execution_count": 47,
   "metadata": {},
   "outputs": [],
   "source": [
    "smote_pipeline = make_pipeline(SMOTE(random_state=42),\n",
    "                              MinMaxScaler(),\n",
    "                              DecisionTreeClassifier(random_state=42))\n",
    "normal_pipeline = make_pipeline(MinMaxScaler(),\n",
    "                              DecisionTreeClassifier(random_state=42))"
   ]
  },
  {
   "cell_type": "markdown",
   "metadata": {},
   "source": [
    "#### 1 Percent data set"
   ]
  },
  {
   "cell_type": "code",
   "execution_count": 48,
   "metadata": {},
   "outputs": [],
   "source": [
    "inputs_train, inputs_test, labels_train, labels_test = train_test_split(inputs_1p, labels_1p, random_state=42)"
   ]
  },
  {
   "cell_type": "markdown",
   "metadata": {},
   "source": [
    "**Decision Tree Classifier with Smote - 1 Percent**"
   ]
  },
  {
   "cell_type": "code",
   "execution_count": 49,
   "metadata": {},
   "outputs": [
    {
     "name": "stdout",
     "output_type": "stream",
     "text": [
      "Testing...\n",
      "dt_smoted_1p best score: 0.9944660176927546\n",
      "dt_smoted_1p best parameters: {'decisiontreeclassifier__class_weight': {1.0: 4}, 'decisiontreeclassifier__criterion': 'gini', 'decisiontreeclassifier__max_depth': 10, 'decisiontreeclassifier__max_features': None, 'decisiontreeclassifier__splitter': 'best'}\n",
      "dt_smoted_1p roc_auc score against test set: 0.9970020579565049\n",
      "dt_smoted_1p recall score against test set: 0.9948717948717949\n",
      "dt_smoted_1p precision score against test set: 0.9897959183673469\n",
      "dt_smoted_1p accuracy score against test set: 0.9988\n",
      "dt_smoted_1p balanced accuracy score against test set: 0.9970020579565049\n",
      "\n"
     ]
    },
    {
     "data": {
      "image/png": "[encoded data removed]",
      "text/plain": [
       "<Figure size 432x288 with 2 Axes>"
      ]
     },
     "metadata": {
      "needs_background": "light"
     },
     "output_type": "display_data"
    }
   ],
   "source": [
    "params = {\n",
    "    'criterion': ['gini', 'entropy', 'log_loss'],\n",
    "    'splitter': ['best', 'random'],\n",
    "    'class_weight': [{1.0: 0.5}, {1.0: 1}, {1.0: 2}, {1.0: 4}, {1.0: 8}, {1.0: 16}, {1.0: 32}, {1.0: 64}],\n",
    "    'max_features': ['sqrt', 'log2', None],\n",
    "    'max_depth': [5, 10, 20, 25, 30, 40, 80]    \n",
    "}\n",
    "param_grid = {'decisiontreeclassifier__' + key: params[key] for key in params}\n",
    "grid_search_train_and_test('dt_smoted_1p', smote_pipeline, param_grid,\n",
    "                            inputs_train, labels_train, inputs_test, labels_test)"
   ]
  },
  {
   "cell_type": "markdown",
   "metadata": {},
   "source": [
    "**Decision Tree Classifier focusing on Class Weights - 1 Percent**"
   ]
  },
  {
   "cell_type": "code",
   "execution_count": 50,
   "metadata": {},
   "outputs": [
    {
     "name": "stdout",
     "output_type": "stream",
     "text": [
      "Testing...\n",
      "dt_weight_1p best score: 0.993299448681982\n",
      "dt_weight_1p best parameters: {'decisiontreeclassifier__class_weight': {1.0: 4}, 'decisiontreeclassifier__criterion': 'entropy', 'decisiontreeclassifier__max_depth': 10, 'decisiontreeclassifier__max_features': None, 'decisiontreeclassifier__splitter': 'best'}\n",
      "dt_weight_1p roc_auc score against test set: 0.9923076923076923\n",
      "dt_weight_1p recall score against test set: 0.9846153846153847\n",
      "dt_weight_1p precision score against test set: 1.0\n",
      "dt_weight_1p accuracy score against test set: 0.9988\n",
      "dt_weight_1p balanced accuracy score against test set: 0.9923076923076923\n",
      "\n"
     ]
    },
    {
     "data": {
      "image/png": "[encoded data removed]",
      "text/plain": [
       "<Figure size 432x288 with 2 Axes>"
      ]
     },
     "metadata": {
      "needs_background": "light"
     },
     "output_type": "display_data"
    }
   ],
   "source": [
    "params = {\n",
    "    'criterion': ['gini', 'entropy', 'log_loss'],\n",
    "    'splitter': ['best', 'random'],\n",
    "    'class_weight': [{1.0: 2}, {1.0: 4}, {1.0: 8}, {1.0: 16}, {1.0: 24},  {1.0: 32}, {1.0: 64}],\n",
    "    'max_features': ['sqrt', 'log2', None],\n",
    "    'max_depth': [5, 10, 15, 20, 25, 30, 40, 80]\n",
    "}\n",
    "param_grid = {'decisiontreeclassifier__' + key: params[key] for key in params}\n",
    "grid_search_train_and_test('dt_weight_1p', normal_pipeline, param_grid,\n",
    "                            inputs_train, labels_train, inputs_test, labels_test)"
   ]
  },
  {
   "cell_type": "markdown",
   "metadata": {},
   "source": [
    "#### 10 Percent data set"
   ]
  },
  {
   "cell_type": "code",
   "execution_count": 51,
   "metadata": {},
   "outputs": [],
   "source": [
    "inputs_train, inputs_test, labels_train, labels_test = train_test_split(inputs_10p, labels_10p, random_state=42)"
   ]
  },
  {
   "cell_type": "markdown",
   "metadata": {},
   "source": [
    "**Decision Tree Classifier with Smote - 10 Percent**"
   ]
  },
  {
   "cell_type": "code",
   "execution_count": 52,
   "metadata": {},
   "outputs": [
    {
     "name": "stdout",
     "output_type": "stream",
     "text": [
      "Testing...\n",
      "dt_smoted_10p best score: 0.9995846429788429\n",
      "dt_smoted_10p best parameters: {'decisiontreeclassifier__class_weight': {1.0: 8}, 'decisiontreeclassifier__criterion': 'gini', 'decisiontreeclassifier__max_depth': 10, 'decisiontreeclassifier__max_features': None, 'decisiontreeclassifier__splitter': 'best'}\n",
      "dt_smoted_10p roc_auc score against test set: 0.9996402666727018\n",
      "dt_smoted_10p recall score against test set: 0.9995435874030123\n",
      "dt_smoted_10p precision score against test set: 0.9972677595628415\n",
      "dt_smoted_10p accuracy score against test set: 0.99972\n",
      "dt_smoted_10p balanced accuracy score against test set: 0.9996402666727018\n",
      "\n"
     ]
    },
    {
     "data": {
      "image/png": "[encoded data removed]",
      "text/plain": [
       "<Figure size 432x288 with 2 Axes>"
      ]
     },
     "metadata": {
      "needs_background": "light"
     },
     "output_type": "display_data"
    }
   ],
   "source": [
    "params = {\n",
    "    'criterion': ['gini'],\n",
    "    'splitter': ['best'],\n",
    "    'class_weight': [{1.0: 1}, {1.0: 2}, {1.0: 4}, {1.0: 8}],\n",
    "    'max_features': ['sqrt', 'log2', None],\n",
    "    'max_depth': [5, 10, 20]\n",
    "    \n",
    "}\n",
    "param_grid = {'decisiontreeclassifier__' + key: params[key] for key in params}\n",
    "grid_search_train_and_test('dt_smoted_10p', smote_pipeline, param_grid,\n",
    "                            inputs_train, labels_train, inputs_test, labels_test)"
   ]
  },
  {
   "cell_type": "markdown",
   "metadata": {},
   "source": [
    "**Decision Tree Classifier focusing on Class Weights - 10 Percent**"
   ]
  },
  {
   "cell_type": "code",
   "execution_count": 53,
   "metadata": {},
   "outputs": [
    {
     "name": "stdout",
     "output_type": "stream",
     "text": [
      "Testing...\n",
      "dt_weight_10p best score: 0.9995119542516837\n",
      "dt_weight_10p best parameters: {'decisiontreeclassifier__class_weight': {1.0: 4}, 'decisiontreeclassifier__criterion': 'entropy', 'decisiontreeclassifier__max_depth': 10, 'decisiontreeclassifier__max_features': None, 'decisiontreeclassifier__splitter': 'best'}\n",
      "dt_weight_10p roc_auc score against test set: 0.9994339815456753\n",
      "dt_weight_10p recall score against test set: 0.9990871748060246\n",
      "dt_weight_10p precision score against test set: 0.9977210574293528\n",
      "dt_weight_10p accuracy score against test set: 0.99972\n",
      "dt_weight_10p balanced accuracy score against test set: 0.9994339815456753\n",
      "\n"
     ]
    },
    {
     "data": {
      "image/png": "[encoded data removed]",
      "text/plain": [
       "<Figure size 432x288 with 2 Axes>"
      ]
     },
     "metadata": {
      "needs_background": "light"
     },
     "output_type": "display_data"
    }
   ],
   "source": [
    "params = {\n",
    "    'criterion': ['entropy'],\n",
    "    'splitter': ['best'],\n",
    "    'class_weight': [{1.0: 4}, {1.0: 8}, {1.0: 12}, {1.0: 16}],\n",
    "    'max_features': ['sqrt', 'log2', None],\n",
    "    'max_depth': [5, 10, 15, 20]\n",
    "}\n",
    "param_grid = {'decisiontreeclassifier__' + key: params[key] for key in params}\n",
    "grid_search_train_and_test('dt_weight_10p', normal_pipeline, param_grid,\n",
    "                            inputs_train, labels_train, inputs_test, labels_test)"
   ]
  },
  {
   "cell_type": "markdown",
   "metadata": {},
   "source": [
    "We will use the best parameters of this phase to train the model using the full dataset"
   ]
  },
  {
   "cell_type": "markdown",
   "metadata": {},
   "source": [
    "#### Full data set"
   ]
  },
  {
   "cell_type": "markdown",
   "metadata": {},
   "source": [
    "**Decision Tree Classifier Control - Full Dataset**"
   ]
  },
  {
   "cell_type": "code",
   "execution_count": 54,
   "metadata": {},
   "outputs": [
    {
     "name": "stdout",
     "output_type": "stream",
     "text": [
      "Testing...\n",
      "dt_control_full best score: 0.9999354292739587\n",
      "dt_control_full best parameters: {}\n",
      "dt_control_full roc_auc score against test set: 0.9999518155674704\n",
      "dt_control_full recall score against test set: 0.9999080121423972\n",
      "dt_control_full precision score against test set: 0.9999540039556598\n",
      "dt_control_full accuracy score against test set: 0.999988\n",
      "dt_control_full balanced accuracy score against test set: 0.9999518155674704\n",
      "\n"
     ]
    },
    {
     "data": {
      "image/png": "[encoded data removed]",
      "text/plain": [
       "<Figure size 432x288 with 2 Axes>"
      ]
     },
     "metadata": {
      "needs_background": "light"
     },
     "output_type": "display_data"
    }
   ],
   "source": [
    "params = {}\n",
    "param_grid = {'decisiontreeclassifier__' + key: params[key] for key in params}\n",
    "grid_search_train_and_test('dt_control_full', DecisionTreeClassifier(random_state=42), param_grid,\n",
    "                            all_inputs_train, all_labels_train, all_inputs_test, all_labels_test)"
   ]
  },
  {
   "cell_type": "markdown",
   "metadata": {},
   "source": [
    "**Decision Tree Classifier with Smote - Full Dataset**"
   ]
  },
  {
   "cell_type": "code",
   "execution_count": 55,
   "metadata": {},
   "outputs": [
    {
     "name": "stdout",
     "output_type": "stream",
     "text": [
      "Testing...\n",
      "dt_smoted_full best score: 0.9999836174313554\n",
      "dt_smoted_full best parameters: {'decisiontreeclassifier__class_weight': {1.0: 8}, 'decisiontreeclassifier__criterion': 'gini', 'decisiontreeclassifier__max_depth': 10, 'decisiontreeclassifier__max_features': None, 'decisiontreeclassifier__splitter': 'best'}\n",
      "dt_smoted_full roc_auc score against test set: 0.9999222470918849\n",
      "dt_smoted_full recall score against test set: 0.9998620182135958\n",
      "dt_smoted_full precision score against test set: 0.9998160327461711\n",
      "dt_smoted_full accuracy score against test set: 0.999972\n",
      "dt_smoted_full balanced accuracy score against test set: 0.9999222470918849\n",
      "\n"
     ]
    },
    {
     "data": {
      "image/png": "[encoded data removed]",
      "text/plain": [
       "<Figure size 432x288 with 2 Axes>"
      ]
     },
     "metadata": {
      "needs_background": "light"
     },
     "output_type": "display_data"
    }
   ],
   "source": [
    "params = {\n",
    "    'criterion': ['gini'],\n",
    "    'splitter': ['best'],\n",
    "    'class_weight': [{1.0: 8}],\n",
    "    'max_features': [None],\n",
    "    'max_depth': [10]\n",
    "    \n",
    "}\n",
    "param_grid = {'decisiontreeclassifier__' + key: params[key] for key in params}\n",
    "grid_search_train_and_test('dt_smoted_full', smote_pipeline, param_grid,\n",
    "                            all_inputs_train, all_labels_train, all_inputs_test, all_labels_test)"
   ]
  },
  {
   "cell_type": "markdown",
   "metadata": {},
   "source": [
    "**Decision Tree Classifier focusing on Class Weights - Full Dataset**"
   ]
  },
  {
   "cell_type": "code",
   "execution_count": 56,
   "metadata": {},
   "outputs": [
    {
     "name": "stdout",
     "output_type": "stream",
     "text": [
      "Testing...\n",
      "dt_weight_full best score: 0.9999528499798798\n",
      "dt_weight_full best parameters: {'decisiontreeclassifier__class_weight': {1.0: 4}, 'decisiontreeclassifier__criterion': 'entropy', 'decisiontreeclassifier__max_depth': 10, 'decisiontreeclassifier__max_features': None, 'decisiontreeclassifier__splitter': 'best'}\n",
      "dt_weight_full roc_auc score against test set: 0.9999518155674704\n",
      "dt_weight_full recall score against test set: 0.9999080121423972\n",
      "dt_weight_full precision score against test set: 0.9999540039556598\n",
      "dt_weight_full accuracy score against test set: 0.999988\n",
      "dt_weight_full balanced accuracy score against test set: 0.9999518155674704\n",
      "\n"
     ]
    },
    {
     "data": {
      "image/png": "[encoded data removed]",
      "text/plain": [
       "<Figure size 432x288 with 2 Axes>"
      ]
     },
     "metadata": {
      "needs_background": "light"
     },
     "output_type": "display_data"
    }
   ],
   "source": [
    "params = {\n",
    "    'criterion': ['entropy'],\n",
    "    'splitter': ['best'],\n",
    "    'class_weight': [{1.0: 4}],\n",
    "    'max_features': [None],\n",
    "    'max_depth': [10]\n",
    "}\n",
    "param_grid = {'decisiontreeclassifier__' + key: params[key] for key in params}\n",
    "grid_search_train_and_test('dt_weight_full', normal_pipeline, param_grid,\n",
    "                            all_inputs_train, all_labels_train, all_inputs_test, all_labels_test)"
   ]
  },
  {
   "cell_type": "markdown",
   "metadata": {},
   "source": [
    "We can see that both models achieved great results and are not distinguishable. However, the one that didn't use SMOTE achieved the results faster. The scores are more than satisfactory, and the best ones yet."
   ]
  },
  {
   "cell_type": "markdown",
   "metadata": {},
   "source": [
    "---------------------------"
   ]
  },
  {
   "cell_type": "markdown",
   "metadata": {
    "jp-MarkdownHeadingCollapsed": true,
    "tags": []
   },
   "source": [
    "### Multi-layer Perceptron classifier"
   ]
  },
  {
   "cell_type": "markdown",
   "metadata": {},
   "source": [
    "Multi-layer Perceptron Classifier is a kind of Neural Network Classification algorithm. Neural Networks are usually very robust and worth the try."
   ]
  },
  {
   "cell_type": "code",
   "execution_count": 57,
   "metadata": {},
   "outputs": [],
   "source": [
    "smote_pipeline = make_pipeline(SMOTE(random_state=42),\n",
    "                              MinMaxScaler(),\n",
    "                              MLPClassifier(max_iter=10000, random_state=42))\n",
    "normal_pipeline = make_pipeline(MinMaxScaler(),\n",
    "                              MLPClassifier(max_iter=10000, random_state=42))"
   ]
  },
  {
   "cell_type": "markdown",
   "metadata": {},
   "source": [
    "#### 1 Percent data set"
   ]
  },
  {
   "cell_type": "code",
   "execution_count": 58,
   "metadata": {},
   "outputs": [],
   "source": [
    "inputs_train, inputs_test, labels_train, labels_test = train_test_split(inputs_1p, labels_1p, random_state=42)"
   ]
  },
  {
   "cell_type": "markdown",
   "metadata": {},
   "source": [
    "**Multi-layer Perceptron with Smote - 1 Percent**"
   ]
  },
  {
   "cell_type": "code",
   "execution_count": 59,
   "metadata": {},
   "outputs": [
    {
     "name": "stdout",
     "output_type": "stream",
     "text": [
      "Testing...\n",
      "mlp_smote_1p best score: 0.9722984887351466\n",
      "mlp_smote_1p best parameters: {}\n",
      "mlp_smote_1p roc_auc score against test set: 0.9756438066633295\n",
      "mlp_smote_1p recall score against test set: 0.9794871794871794\n",
      "mlp_smote_1p precision score against test set: 0.74609375\n",
      "mlp_smote_1p accuracy score against test set: 0.9724\n",
      "mlp_smote_1p balanced accuracy score against test set: 0.9756438066633294\n",
      "\n"
     ]
    },
    {
     "data": {
      "image/png": "[encoded data removed]",
      "text/plain": [
       "<Figure size 432x288 with 2 Axes>"
      ]
     },
     "metadata": {
      "needs_background": "light"
     },
     "output_type": "display_data"
    }
   ],
   "source": [
    "params = {}\n",
    "param_grid = {'mlpclassifier__' + key: params[key] for key in params}\n",
    "grid_search_train_and_test('mlp_smote_1p', smote_pipeline, param_grid,\n",
    "                            inputs_train, labels_train, inputs_test, labels_test)"
   ]
  },
  {
   "cell_type": "markdown",
   "metadata": {},
   "source": [
    "**Multi-layer Perceptron Normal - 1 Percent**"
   ]
  },
  {
   "cell_type": "code",
   "execution_count": 60,
   "metadata": {},
   "outputs": [
    {
     "name": "stdout",
     "output_type": "stream",
     "text": [
      "Testing...\n",
      "mlp_normal_1p best score: 0.9247660085644107\n",
      "mlp_normal_1p best parameters: {}\n",
      "mlp_normal_1p roc_auc score against test set: 0.9399021080149063\n",
      "mlp_normal_1p recall score against test set: 0.8871794871794871\n",
      "mlp_normal_1p precision score against test set: 0.9105263157894737\n",
      "mlp_normal_1p accuracy score against test set: 0.9844\n",
      "mlp_normal_1p balanced accuracy score against test set: 0.9399021080149063\n",
      "\n"
     ]
    },
    {
     "data": {
      "image/png": "[encoded data removed]",
      "text/plain": [
       "<Figure size 432x288 with 2 Axes>"
      ]
     },
     "metadata": {
      "needs_background": "light"
     },
     "output_type": "display_data"
    }
   ],
   "source": [
    "params = {}\n",
    "param_grid = {'mlpclassifier__' + key: params[key] for key in params}\n",
    "grid_search_train_and_test('mlp_normal_1p', normal_pipeline, param_grid,\n",
    "                            inputs_train, labels_train, inputs_test, labels_test)"
   ]
  },
  {
   "cell_type": "markdown",
   "metadata": {},
   "source": [
    "#### 10 Percent data set"
   ]
  },
  {
   "cell_type": "code",
   "execution_count": 61,
   "metadata": {},
   "outputs": [],
   "source": [
    "inputs_train, inputs_test, labels_train, labels_test = train_test_split(inputs_10p, labels_10p, random_state=42)"
   ]
  },
  {
   "cell_type": "markdown",
   "metadata": {},
   "source": [
    "**Multi-layer Perceptron with Smote - 10 Percent**"
   ]
  },
  {
   "cell_type": "code",
   "execution_count": 62,
   "metadata": {},
   "outputs": [
    {
     "name": "stdout",
     "output_type": "stream",
     "text": [
      "Testing...\n",
      "mlp_smoted_10p best score: 0.9831718515064043\n",
      "mlp_smoted_10p best parameters: {}\n",
      "mlp_smoted_10p roc_auc score against test set: 0.9805204828484692\n",
      "mlp_smoted_10p recall score against test set: 0.9904153354632588\n",
      "mlp_smoted_10p precision score against test set: 0.7640845070422535\n",
      "mlp_smoted_10p accuracy score against test set: 0.97236\n",
      "mlp_smoted_10p balanced accuracy score against test set: 0.9805204828484693\n",
      "\n"
     ]
    },
    {
     "data": {
      "image/png": "[encoded data removed]",
      "text/plain": [
       "<Figure size 432x288 with 2 Axes>"
      ]
     },
     "metadata": {
      "needs_background": "light"
     },
     "output_type": "display_data"
    }
   ],
   "source": [
    "params = {}\n",
    "param_grid = {'mlpclassifier__' + key: params[key] for key in params}\n",
    "grid_search_train_and_test('mlp_smoted_10p', smote_pipeline, param_grid,\n",
    "                            inputs_train, labels_train, inputs_test, labels_test)"
   ]
  },
  {
   "cell_type": "markdown",
   "metadata": {},
   "source": [
    "**Multi-layer Perceptron Normal - 10 Percent**"
   ]
  },
  {
   "cell_type": "code",
   "execution_count": 63,
   "metadata": {},
   "outputs": [
    {
     "name": "stdout",
     "output_type": "stream",
     "text": [
      "Testing...\n",
      "mlp_normal_10p best score: 0.9999695412144115\n",
      "mlp_normal_10p best parameters: {}\n",
      "mlp_normal_10p roc_auc score against test set: 1.0\n",
      "mlp_normal_10p recall score against test set: 1.0\n",
      "mlp_normal_10p precision score against test set: 1.0\n",
      "mlp_normal_10p accuracy score against test set: 1.0\n",
      "mlp_normal_10p balanced accuracy score against test set: 1.0\n",
      "\n"
     ]
    },
    {
     "data": {
      "image/png": "[encoded data removed]",
      "text/plain": [
       "<Figure size 432x288 with 2 Axes>"
      ]
     },
     "metadata": {
      "needs_background": "light"
     },
     "output_type": "display_data"
    }
   ],
   "source": [
    "params = {}\n",
    "param_grid = {'mlpclassifier__' + key: params[key] for key in params}\n",
    "grid_search_train_and_test('mlp_normal_10p', normal_pipeline, param_grid,\n",
    "                            inputs_train, labels_train, inputs_test, labels_test)"
   ]
  },
  {
   "cell_type": "markdown",
   "metadata": {},
   "source": [
    "Smote is showing worse results. As such, we will not use it with the full data set."
   ]
  },
  {
   "cell_type": "markdown",
   "metadata": {},
   "source": [
    "#### Full Data Set"
   ]
  },
  {
   "cell_type": "code",
   "execution_count": 64,
   "metadata": {},
   "outputs": [
    {
     "name": "stdout",
     "output_type": "stream",
     "text": [
      "Testing...\n",
      "mlp_normal_full best score: 0.9764905063662332\n",
      "mlp_normal_full best parameters: {}\n",
      "mlp_normal_full roc_auc score against test set: 0.945036016866396\n",
      "mlp_normal_full recall score against test set: 0.8920522491031184\n",
      "mlp_normal_full precision score against test set: 0.9772257771955459\n",
      "mlp_normal_full accuracy score against test set: 0.988804\n",
      "mlp_normal_full balanced accuracy score against test set: 0.9450360168663959\n",
      "\n"
     ]
    },
    {
     "data": {
      "image/png": "[encoded data removed]",
      "text/plain": [
       "<Figure size 432x288 with 2 Axes>"
      ]
     },
     "metadata": {
      "needs_background": "light"
     },
     "output_type": "display_data"
    }
   ],
   "source": [
    "params = {}\n",
    "param_grid = {'mlpclassifier__' + key: params[key] for key in params}\n",
    "grid_search_train_and_test('mlp_normal_full', normal_pipeline, param_grid,\n",
    "                            all_inputs_train, all_labels_train, all_inputs_test, all_labels_test)"
   ]
  },
  {
   "cell_type": "markdown",
   "metadata": {},
   "source": [
    "MLP is presenting very inconsistent results and takes very long time to train. As such, we conclude it is not the best algorithm to generate a model. Perhaps if we had more computanional power, we could explore more options in the grid search and obtain a decent model."
   ]
  },
  {
   "cell_type": "markdown",
   "metadata": {},
   "source": [
    "----------------------"
   ]
  },
  {
   "cell_type": "markdown",
   "metadata": {},
   "source": [
    "### Random Forest Classifier"
   ]
  },
  {
   "cell_type": "markdown",
   "metadata": {},
   "source": [
    "Random Forests, are like Decision Trees, robust against imbalanced data. They can also be an improvement as they are almost imune against overfitting and have a reduced error in comparison, making it perfect for this kind of problem. Although that was not a problem with the Decision Trees, we will give Random Forests a try."
   ]
  },
  {
   "cell_type": "code",
   "execution_count": 65,
   "metadata": {},
   "outputs": [],
   "source": [
    "smote_pipeline = make_pipeline(SMOTE(random_state=42),\n",
    "                              MinMaxScaler(),\n",
    "                              RandomForestClassifier(random_state=42))\n",
    "normal_pipeline = make_pipeline(MinMaxScaler(),\n",
    "                              RandomForestClassifier(random_state=42))"
   ]
  },
  {
   "cell_type": "markdown",
   "metadata": {},
   "source": [
    "#### 1 Percent data set"
   ]
  },
  {
   "cell_type": "code",
   "execution_count": 66,
   "metadata": {},
   "outputs": [],
   "source": [
    "inputs_train, inputs_test, labels_train, labels_test = train_test_split(inputs_1p, labels_1p, random_state=42)\n",
    "inputs_train_selected, inputs_test_selected, labels_train_selected, labels_test_selected = train_test_split(inputs_1p_selected, labels_1p, random_state=42)"
   ]
  },
  {
   "cell_type": "markdown",
   "metadata": {},
   "source": [
    "**Random Forest Classifier with Smote - 1 Percent**"
   ]
  },
  {
   "cell_type": "code",
   "execution_count": 67,
   "metadata": {},
   "outputs": [
    {
     "name": "stdout",
     "output_type": "stream",
     "text": [
      "Testing...\n",
      "rf_smoted_1p best score: 0.9936679585725349\n",
      "rf_smoted_1p best parameters: {'randomforestclassifier__class_weight': {1.0: 1}, 'randomforestclassifier__criterion': 'entropy', 'randomforestclassifier__max_depth': 10, 'randomforestclassifier__max_features': None, 'randomforestclassifier__n_estimators': 150}\n",
      "rf_smoted_1p roc_auc score against test set: 0.9944379553924023\n",
      "rf_smoted_1p recall score against test set: 0.9897435897435898\n",
      "rf_smoted_1p precision score against test set: 0.9897435897435898\n",
      "rf_smoted_1p accuracy score against test set: 0.9984\n",
      "rf_smoted_1p balanced accuracy score against test set: 0.9944379553924023\n",
      "\n"
     ]
    },
    {
     "data": {
      "image/png": "[encoded data removed]",
      "text/plain": [
       "<Figure size 432x288 with 2 Axes>"
      ]
     },
     "metadata": {
      "needs_background": "light"
     },
     "output_type": "display_data"
    }
   ],
   "source": [
    "params = {\n",
    "    'criterion': ['entropy'],\n",
    "    'class_weight': [{1.0: 1}],\n",
    "    'max_features': [None],\n",
    "    'max_depth': [10],\n",
    "    'n_estimators': [75, 100, 150, 200, 250]\n",
    "}\n",
    "# 75, 100, 150, 200, 250\n",
    "# 5, 10, 20, 25\n",
    "param_grid = {'randomforestclassifier__' + key: params[key] for key in params}\n",
    "grid_search_train_and_test('rf_smoted_1p', smote_pipeline, param_grid,\n",
    "                            inputs_train, labels_train, inputs_test, labels_test)"
   ]
  },
  {
   "cell_type": "markdown",
   "metadata": {},
   "source": [
    "**Random Forest Classifier focusing on Class Weights - 1 Percent**"
   ]
  },
  {
   "cell_type": "code",
   "execution_count": 68,
   "metadata": {},
   "outputs": [
    {
     "name": "stdout",
     "output_type": "stream",
     "text": [
      "Testing...\n",
      "rf_weight_1p best score: 0.9918395168831754\n",
      "rf_weight_1p best parameters: {'randomforestclassifier__class_weight': {1.0: 8}, 'randomforestclassifier__criterion': 'gini', 'randomforestclassifier__max_depth': 10, 'randomforestclassifier__max_features': None, 'randomforestclassifier__n_estimators': 75}\n",
      "rf_weight_1p roc_auc score against test set: 0.9897435897435898\n",
      "rf_weight_1p recall score against test set: 0.9794871794871794\n",
      "rf_weight_1p precision score against test set: 1.0\n",
      "rf_weight_1p accuracy score against test set: 0.9984\n",
      "rf_weight_1p balanced accuracy score against test set: 0.9897435897435898\n",
      "\n"
     ]
    },
    {
     "data": {
      "image/png": "[encoded data removed]",
      "text/plain": [
       "<Figure size 432x288 with 2 Axes>"
      ]
     },
     "metadata": {
      "needs_background": "light"
     },
     "output_type": "display_data"
    }
   ],
   "source": [
    "params = {\n",
    "    'criterion': ['gini'],\n",
    "    'class_weight': [{1.0: 8}],\n",
    "    'max_features': [None],\n",
    "    'max_depth': [10],\n",
    "    'n_estimators': [75, 100, 150, 200, 250]\n",
    "}\n",
    "param_grid = {'randomforestclassifier__' + key: params[key] for key in params}\n",
    "grid_search_train_and_test('rf_weight_1p', normal_pipeline, param_grid,\n",
    "                            inputs_train, labels_train, inputs_test, labels_test)"
   ]
  },
  {
   "cell_type": "markdown",
   "metadata": {},
   "source": [
    "#### Full data set"
   ]
  },
  {
   "cell_type": "markdown",
   "metadata": {},
   "source": [
    "**Random Forest Classifier Controll - Full Dataset**"
   ]
  },
  {
   "cell_type": "code",
   "execution_count": 69,
   "metadata": {},
   "outputs": [
    {
     "name": "stdout",
     "output_type": "stream",
     "text": [
      "Testing...\n",
      "rf_control_full best score: 0.9999238524562373\n",
      "rf_control_full best parameters: {}\n",
      "rf_control_full roc_auc score against test set: 0.9999540060711987\n",
      "rf_control_full recall score against test set: 0.9999080121423972\n",
      "rf_control_full precision score against test set: 1.0\n",
      "rf_control_full accuracy score against test set: 0.999992\n",
      "rf_control_full balanced accuracy score against test set: 0.9999540060711987\n",
      "\n"
     ]
    },
    {
     "data": {
      "image/png": "[encoded data removed]",
      "text/plain": [
       "<Figure size 432x288 with 2 Axes>"
      ]
     },
     "metadata": {
      "needs_background": "light"
     },
     "output_type": "display_data"
    }
   ],
   "source": [
    "params = {}\n",
    "param_grid = {'randomforestclassifier__' + key: params[key] for key in params}\n",
    "grid_search_train_and_test('rf_control_full', RandomForestClassifier(random_state=42), param_grid,\n",
    "                            all_inputs_train, all_labels_train, all_inputs_test, all_labels_test)"
   ]
  },
  {
   "cell_type": "markdown",
   "metadata": {},
   "source": [
    "**Random Forest Classifier with Smote - Full Dataset**"
   ]
  },
  {
   "cell_type": "markdown",
   "metadata": {},
   "source": [
    "Although we got better results with 150 trees we estimated that running Random Forest with that number of trees would take 5 hours so we limited that number to 100."
   ]
  },
  {
   "cell_type": "code",
   "execution_count": 70,
   "metadata": {},
   "outputs": [
    {
     "name": "stdout",
     "output_type": "stream",
     "text": [
      "Testing...\n",
      "rf_smoted_full best score: 0.9999096617805113\n",
      "rf_smoted_full best parameters: {'randomforestclassifier__class_weight': {1.0: 1}, 'randomforestclassifier__criterion': 'gini', 'randomforestclassifier__max_depth': 10, 'randomforestclassifier__max_features': None, 'randomforestclassifier__n_estimators': 10}\n",
      "rf_smoted_full roc_auc score against test set: 0.9999496250637422\n",
      "rf_smoted_full recall score against test set: 0.9999080121423972\n",
      "rf_smoted_full precision score against test set: 0.9999080121423972\n",
      "rf_smoted_full accuracy score against test set: 0.999984\n",
      "rf_smoted_full balanced accuracy score against test set: 0.9999496250637421\n",
      "\n"
     ]
    },
    {
     "data": {
      "image/png": "[encoded data removed]",
      "text/plain": [
       "<Figure size 432x288 with 2 Axes>"
      ]
     },
     "metadata": {
      "needs_background": "light"
     },
     "output_type": "display_data"
    }
   ],
   "source": [
    "params = {\n",
    "    'criterion': ['gini'],\n",
    "    'class_weight': [{1.0: 1}],\n",
    "    'max_features': [None],\n",
    "    'max_depth': [10],\n",
    "    'n_estimators': [10]\n",
    "}\n",
    "param_grid = {'randomforestclassifier__' + key: params[key] for key in params}\n",
    "grid_search_train_and_test('rf_smoted_full', smote_pipeline, param_grid,\n",
    "                            all_inputs_train, all_labels_train, all_inputs_test, all_labels_test)"
   ]
  },
  {
   "cell_type": "markdown",
   "metadata": {},
   "source": [
    "**Random Forest Classifier focusing on Class Weights - Full dataset**"
   ]
  },
  {
   "cell_type": "code",
   "execution_count": 71,
   "metadata": {},
   "outputs": [
    {
     "name": "stdout",
     "output_type": "stream",
     "text": [
      "Testing...\n",
      "rf_weight_full best score: 0.9999535806108526\n",
      "rf_weight_full best parameters: {'randomforestclassifier__class_weight': {1.0: 8}, 'randomforestclassifier__criterion': 'gini', 'randomforestclassifier__max_depth': 10, 'randomforestclassifier__max_features': None, 'randomforestclassifier__n_estimators': 75}\n",
      "rf_weight_full roc_auc score against test set: 0.9999518155674704\n",
      "rf_weight_full recall score against test set: 0.9999080121423972\n",
      "rf_weight_full precision score against test set: 0.9999540039556598\n",
      "rf_weight_full accuracy score against test set: 0.999988\n",
      "rf_weight_full balanced accuracy score against test set: 0.9999518155674704\n",
      "\n"
     ]
    },
    {
     "data": {
      "image/png": "[encoded data removed]",
      "text/plain": [
       "<Figure size 432x288 with 2 Axes>"
      ]
     },
     "metadata": {
      "needs_background": "light"
     },
     "output_type": "display_data"
    }
   ],
   "source": [
    "params = {\n",
    "    'criterion': ['gini'],\n",
    "    'class_weight': [{1.0: 8}],\n",
    "    'max_features': [None],\n",
    "    'max_depth': [10],\n",
    "    'n_estimators': [75]\n",
    "}\n",
    "param_grid = {'randomforestclassifier__' + key: params[key] for key in params}\n",
    "grid_search_train_and_test('rf_weight_full', normal_pipeline, param_grid,\n",
    "                            all_inputs_train, all_labels_train, all_inputs_test, all_labels_test)"
   ]
  },
  {
   "cell_type": "markdown",
   "metadata": {},
   "source": [
    "Random forests, similar to decision trees, generated very good results. However they were much slower to train and did not present much improvement, as Decision Trees are already nearly flawless for this dataset."
   ]
  },
  {
   "cell_type": "markdown",
   "metadata": {},
   "source": [
    "--------------------------"
   ]
  },
  {
   "cell_type": "markdown",
   "metadata": {},
   "source": [
    "## Model Comparison and Analysis"
   ]
  },
  {
   "cell_type": "code",
   "execution_count": 72,
   "metadata": {},
   "outputs": [
    {
     "data": {
      "text/html": [
       "<div>\n",
       "<style scoped>\n",
       "    .dataframe tbody tr th:only-of-type {\n",
       "        vertical-align: middle;\n",
       "    }\n",
       "\n",
       "    .dataframe tbody tr th {\n",
       "        vertical-align: top;\n",
       "    }\n",
       "\n",
       "    .dataframe thead th {\n",
       "        text-align: right;\n",
       "    }\n",
       "</style>\n",
       "<table border=\"1\" class=\"dataframe\">\n",
       "  <thead>\n",
       "    <tr style=\"text-align: right;\">\n",
       "      <th></th>\n",
       "      <th>model</th>\n",
       "      <th>time_to_train</th>\n",
       "      <th>time_to_test</th>\n",
       "      <th>recall</th>\n",
       "      <th>roc_auc</th>\n",
       "      <th>precision</th>\n",
       "      <th>accuracy</th>\n",
       "      <th>balanced_accuracy</th>\n",
       "    </tr>\n",
       "  </thead>\n",
       "  <tbody>\n",
       "    <tr>\n",
       "      <th>6</th>\n",
       "      <td>rf_control_full</td>\n",
       "      <td>361.549095</td>\n",
       "      <td>1.325936</td>\n",
       "      <td>0.999908</td>\n",
       "      <td>0.999954</td>\n",
       "      <td>1.000000</td>\n",
       "      <td>0.999992</td>\n",
       "      <td>0.999954</td>\n",
       "    </tr>\n",
       "    <tr>\n",
       "      <th>3</th>\n",
       "      <td>dt_control_full</td>\n",
       "      <td>12.073779</td>\n",
       "      <td>0.008223</td>\n",
       "      <td>0.999908</td>\n",
       "      <td>0.999952</td>\n",
       "      <td>0.999954</td>\n",
       "      <td>0.999988</td>\n",
       "      <td>0.999952</td>\n",
       "    </tr>\n",
       "    <tr>\n",
       "      <th>5</th>\n",
       "      <td>dt_weight_full</td>\n",
       "      <td>6.897408</td>\n",
       "      <td>0.015349</td>\n",
       "      <td>0.999908</td>\n",
       "      <td>0.999952</td>\n",
       "      <td>0.999954</td>\n",
       "      <td>0.999988</td>\n",
       "      <td>0.999952</td>\n",
       "    </tr>\n",
       "    <tr>\n",
       "      <th>8</th>\n",
       "      <td>rf_weight_full</td>\n",
       "      <td>303.098518</td>\n",
       "      <td>0.771723</td>\n",
       "      <td>0.999908</td>\n",
       "      <td>0.999952</td>\n",
       "      <td>0.999954</td>\n",
       "      <td>0.999988</td>\n",
       "      <td>0.999952</td>\n",
       "    </tr>\n",
       "    <tr>\n",
       "      <th>7</th>\n",
       "      <td>rf_smoted_full</td>\n",
       "      <td>132.806744</td>\n",
       "      <td>0.117373</td>\n",
       "      <td>0.999908</td>\n",
       "      <td>0.999950</td>\n",
       "      <td>0.999908</td>\n",
       "      <td>0.999984</td>\n",
       "      <td>0.999950</td>\n",
       "    </tr>\n",
       "    <tr>\n",
       "      <th>4</th>\n",
       "      <td>dt_smoted_full</td>\n",
       "      <td>26.156530</td>\n",
       "      <td>0.016174</td>\n",
       "      <td>0.999862</td>\n",
       "      <td>0.999922</td>\n",
       "      <td>0.999816</td>\n",
       "      <td>0.999972</td>\n",
       "      <td>0.999922</td>\n",
       "    </tr>\n",
       "    <tr>\n",
       "      <th>10</th>\n",
       "      <td>knn_smoted_10p</td>\n",
       "      <td>233.760107</td>\n",
       "      <td>181.564677</td>\n",
       "      <td>0.989553</td>\n",
       "      <td>0.993826</td>\n",
       "      <td>0.980322</td>\n",
       "      <td>0.997353</td>\n",
       "      <td>0.993826</td>\n",
       "    </tr>\n",
       "    <tr>\n",
       "      <th>11</th>\n",
       "      <td>knn_none_10p</td>\n",
       "      <td>119.013859</td>\n",
       "      <td>121.487901</td>\n",
       "      <td>0.983827</td>\n",
       "      <td>0.991484</td>\n",
       "      <td>0.990951</td>\n",
       "      <td>0.997803</td>\n",
       "      <td>0.991484</td>\n",
       "    </tr>\n",
       "    <tr>\n",
       "      <th>12</th>\n",
       "      <td>mlp_normal_full</td>\n",
       "      <td>960.845785</td>\n",
       "      <td>0.208947</td>\n",
       "      <td>0.892052</td>\n",
       "      <td>0.945036</td>\n",
       "      <td>0.977226</td>\n",
       "      <td>0.988804</td>\n",
       "      <td>0.945036</td>\n",
       "    </tr>\n",
       "    <tr>\n",
       "      <th>2</th>\n",
       "      <td>lr_weight_full</td>\n",
       "      <td>55.498035</td>\n",
       "      <td>0.018500</td>\n",
       "      <td>0.972910</td>\n",
       "      <td>0.944290</td>\n",
       "      <td>0.523563</td>\n",
       "      <td>0.920648</td>\n",
       "      <td>0.944290</td>\n",
       "    </tr>\n",
       "    <tr>\n",
       "      <th>1</th>\n",
       "      <td>lr_smoted_full</td>\n",
       "      <td>120.202866</td>\n",
       "      <td>0.015749</td>\n",
       "      <td>0.980637</td>\n",
       "      <td>0.943069</td>\n",
       "      <td>0.497097</td>\n",
       "      <td>0.912036</td>\n",
       "      <td>0.943069</td>\n",
       "    </tr>\n",
       "    <tr>\n",
       "      <th>9</th>\n",
       "      <td>knn_control_10p</td>\n",
       "      <td>19.848561</td>\n",
       "      <td>47.906985</td>\n",
       "      <td>0.828354</td>\n",
       "      <td>0.904025</td>\n",
       "      <td>0.796050</td>\n",
       "      <td>0.966481</td>\n",
       "      <td>0.904025</td>\n",
       "    </tr>\n",
       "    <tr>\n",
       "      <th>0</th>\n",
       "      <td>lr_control_full</td>\n",
       "      <td>19.497249</td>\n",
       "      <td>0.005409</td>\n",
       "      <td>0.599163</td>\n",
       "      <td>0.796077</td>\n",
       "      <td>0.890613</td>\n",
       "      <td>0.958740</td>\n",
       "      <td>0.796077</td>\n",
       "    </tr>\n",
       "  </tbody>\n",
       "</table>\n",
       "</div>"
      ],
      "text/plain": [
       "              model  time_to_train  time_to_test    recall   roc_auc  \\\n",
       "6   rf_control_full     361.549095      1.325936  0.999908  0.999954   \n",
       "3   dt_control_full      12.073779      0.008223  0.999908  0.999952   \n",
       "5    dt_weight_full       6.897408      0.015349  0.999908  0.999952   \n",
       "8    rf_weight_full     303.098518      0.771723  0.999908  0.999952   \n",
       "7    rf_smoted_full     132.806744      0.117373  0.999908  0.999950   \n",
       "4    dt_smoted_full      26.156530      0.016174  0.999862  0.999922   \n",
       "10   knn_smoted_10p     233.760107    181.564677  0.989553  0.993826   \n",
       "11     knn_none_10p     119.013859    121.487901  0.983827  0.991484   \n",
       "12  mlp_normal_full     960.845785      0.208947  0.892052  0.945036   \n",
       "2    lr_weight_full      55.498035      0.018500  0.972910  0.944290   \n",
       "1    lr_smoted_full     120.202866      0.015749  0.980637  0.943069   \n",
       "9   knn_control_10p      19.848561     47.906985  0.828354  0.904025   \n",
       "0   lr_control_full      19.497249      0.005409  0.599163  0.796077   \n",
       "\n",
       "    precision  accuracy  balanced_accuracy  \n",
       "6    1.000000  0.999992           0.999954  \n",
       "3    0.999954  0.999988           0.999952  \n",
       "5    0.999954  0.999988           0.999952  \n",
       "8    0.999954  0.999988           0.999952  \n",
       "7    0.999908  0.999984           0.999950  \n",
       "4    0.999816  0.999972           0.999922  \n",
       "10   0.980322  0.997353           0.993826  \n",
       "11   0.990951  0.997803           0.991484  \n",
       "12   0.977226  0.988804           0.945036  \n",
       "2    0.523563  0.920648           0.944290  \n",
       "1    0.497097  0.912036           0.943069  \n",
       "9    0.796050  0.966481           0.904025  \n",
       "0    0.890613  0.958740           0.796077  "
      ]
     },
     "execution_count": 72,
     "metadata": {},
     "output_type": "execute_result"
    }
   ],
   "source": [
    "performance_table = pd.read_csv('../data/performance.csv')\n",
    "performance_table.sort_values('roc_auc', ascending=False)"
   ]
  },
  {
   "cell_type": "code",
   "execution_count": 73,
   "metadata": {},
   "outputs": [
    {
     "data": {
      "image/png": "[encoded data removed]",
      "text/plain": [
       "<Figure size 1440x720 with 5 Axes>"
      ]
     },
     "metadata": {
      "needs_background": "light"
     },
     "output_type": "display_data"
    }
   ],
   "source": [
    "f, ax = plt.subplots(5, figsize=(20, 10)) \n",
    "sb.barplot(data=performance_table, x='model', y='roc_auc', ax=ax[0])\n",
    "sb.barplot(data=performance_table, x='model', y='recall', ax=ax[1])\n",
    "sb.barplot(data=performance_table, x='model', y='balanced_accuracy', ax=ax[2])\n",
    "sb.barplot(data=performance_table, x='model', y='precision', ax=ax[3])\n",
    "sb.barplot(data=performance_table, x='model', y='accuracy', ax=ax[4])\n",
    "ax[0].set_ylim(ymin=0.7)\n",
    "ax[1].set_ylim(ymin=0.5)\n",
    "ax[2].set_ylim(ymin=0.7)\n",
    "ax[3].set_ylim(ymin=0.45)\n",
    "ax[4].set_ylim(ymin=0.8)\n",
    "ax[0].set(ylabel = \"ROC AUC\")\n",
    "ax[1].set(ylabel = \"Recall\")\n",
    "ax[2].set(ylabel = \"Balanced Acc.\")\n",
    "ax[3].set(ylabel = \"Precision\")\n",
    "ax[4].set(ylabel = \"Accuracy\")\n",
    "f.suptitle(\"Model Scores\")\n",
    "plt.xlabel(\"Model\")\n",
    "plt.show()"
   ]
  },
  {
   "cell_type": "markdown",
   "metadata": {},
   "source": [
    "The graphs suggest that the models with the **best performance** are the ones based on **Decision Trees and Random Forests**. They had both outstanding scores, even without parameter tweeking. Decision Trees and Random Forests were the ones we predicted would have the best performance due to their tendency to behave well with imbalanced data sets. Even so, such a great result without any parameter tweeking was still a surprise.\n",
    "\n",
    "It is also evident that **Logistic Regression** was the worse one, probably due to their sensitivity to imbalance. However, they were the most positively affected by the parameter tweeking (the last two scorers are not as suited to evaluate models in imbalanced datasets)."
   ]
  },
  {
   "cell_type": "code",
   "execution_count": 74,
   "metadata": {},
   "outputs": [
    {
     "data": {
      "image/png": "[encoded data removed]",
      "text/plain": [
       "<Figure size 1440x360 with 2 Axes>"
      ]
     },
     "metadata": {
      "needs_background": "light"
     },
     "output_type": "display_data"
    }
   ],
   "source": [
    "f, ax = plt.subplots(2, figsize=(20, 5)) \n",
    "sb.barplot(data=performance_table, x='model', y='time_to_train', ax=ax[0])\n",
    "sb.barplot(data=performance_table, x='model', y='time_to_test', ax=ax[1])\n",
    "ax[0].set(ylabel = \"Time to Train (s)\")\n",
    "ax[1].set(ylabel = \"Time to Predict (s)\")\n",
    "f.suptitle(\"Model Train and Predict Times\")\n",
    "plt.xlabel('Models')\n",
    "plt.show()"
   ]
  },
  {
   "cell_type": "markdown",
   "metadata": {},
   "source": [
    "These two graphs show us that\n",
    "- although KNN had fairly decent scores, it is way too slow at predicting models\n",
    "- Multi-layer Perceptrons was far slower than any other algorithm at training, which goes with expected\n",
    "- Random Forests are far slower than Decision Trees, as many Decision Trees are formed in a Random Forest "
   ]
  },
  {
   "cell_type": "code",
   "execution_count": 75,
   "metadata": {},
   "outputs": [],
   "source": [
    "FINAL_CHOICE = unpickle_model('rf_control_full.sav')"
   ]
  },
  {
   "cell_type": "markdown",
   "metadata": {},
   "source": [
    "## References"
   ]
  },
  {
   "cell_type": "markdown",
   "metadata": {},
   "source": [
    "#### General\n",
    "- [https://towardsdatascience.com/pros-and-cons-of-various-classification-ml-algorithms-3b5bfb3c87d6](https://towardsdatascience.com/pros-and-cons-of-various-classification-ml-algorithms-3b5bfb3c87d6)\n",
    "- [https://towardsdatascience.com/the-right-way-of-using-smote-with-cross-validation-92a8d09d00c7](https://towardsdatascience.com/the-right-way-of-using-smote-with-cross-validation-92a8d09d00c7)\n",
    "- [https://machinelearningmastery.com/cost-sensitive-logistic-regression/](https://machinelearningmastery.com/cost-sensitive-logistic-regression/)\n",
    "- [https://www.analyticsvidhya.com/blog/2020/10/improve-class-imbalance-class-weights/](https://www.analyticsvidhya.com/blog/2020/10/improve-class-imbalance-class-weights/)\n",
    "- [https://www.quora.com/Which-machine-learning-algorithms-tend-to-perform-better-on-highly-imbalanced-datasets](https://www.quora.com/Which-machine-learning-algorithms-tend-to-perform-better-on-highly-imbalanced-datasets)\n",
    "- [https://developers.google.com/machine-learning/data-prep/construct/sampling-splitting/imbalanced-data](https://developers.google.com/machine-learning/data-prep/construct/sampling-splitting/imbalanced-data)\n",
    "- [https://www.analyticsvidhya.com/blog/2021/06/5-techniques-to-handle-imbalanced-data-for-a-classification-problem/](https://www.analyticsvidhya.com/blog/2021/06/5-techniques-to-handle-imbalanced-data-for-a-classification-problem/)\n",
    "- [https://machinelearningmastery.com/what-is-imbalanced-classification/](https://machinelearningmastery.com/what-is-imbalanced-classification/)\n",
    "\n",
    "\n",
    "#### Code\n",
    "- [Scikit-Learn](https://scikit-learn.org/)\n",
    "- [Seaborn](https://seaborn.pydata.org/)\n",
    "- [Matplotlib](https://matplotlib.org/)\n",
    "- [Pandas](https://pandas.pydata.org/)\n",
    "- [Imblearn](https://imbalanced-learn.org/stable/)\n",
    "\n",
    "\n",
    "\n",
    "#### Articles\n",
    "\n",
    "- Tischio, R. M., & Weiss, G. M. (2019). Identifying classification algorithms most suitable for imbalanced data. Dept. Comput. Inf. Sci., Fordham Univ., The Bronx, NY, USA, Tech. Rep.\n",
    "- Tharwat, A. (2021), ”Classification assessment methods”, Applied Computing and\n",
    "Informatics, Vol. 17 No. 1, pp. 168-192.\n",
    "- Bekkar, M., Djemaa, H. K., Alitouche, T. A. (2013). Evaluation measures for\n",
    "models assessment over imbalanced data sets. J Inf Eng Appl, 3(10)."
   ]
  }
 ],
 "metadata": {
  "interpreter": {
   "hash": "2039846fdcec2ee9e686a88ae7195e137fbc7a60c8454fde947f8c58f7237e0a"
  },
  "kernelspec": {
   "display_name": "Python 3 (ipykernel)",
   "language": "python",
   "name": "python3"
  },
  "language_info": {
   "codemirror_mode": {
    "name": "ipython",
    "version": 3
   },
   "file_extension": ".py",
   "mimetype": "text/x-python",
   "name": "python",
   "nbconvert_exporter": "python",
   "pygments_lexer": "ipython3",
   "version": "3.8.13"
  }
 },
 "nbformat": 4,
 "nbformat_minor": 4
}
